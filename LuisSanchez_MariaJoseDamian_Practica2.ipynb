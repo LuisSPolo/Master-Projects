{
  "nbformat": 4,
  "nbformat_minor": 0,
  "metadata": {
    "anaconda-cloud": {},
    "colab": {
      "provenance": []
    },
    "kernelspec": {
      "display_name": "Python 3",
      "language": "python",
      "name": "python3"
    },
    "language_info": {
      "codemirror_mode": {
        "name": "ipython",
        "version": 3
      },
      "file_extension": ".py",
      "mimetype": "text/x-python",
      "name": "python",
      "nbconvert_exporter": "python",
      "pygments_lexer": "ipython3",
      "version": "3.5.6"
    }
  },
  "cells": [
    {
      "cell_type": "markdown",
      "source": [
        "<font color=\"#CA3532\"><h1 align=\"center\">**Aprendizaje por Refuerzo**</h1></font>\n",
        "<font color=\"#6E6E6E\"><h2 align=\"center\">**Práctica 2: Multiarmed Bandits**</h2></font>\n",
        "<center> <h4>Luis Sánchez Polo</h4> </center>\n",
        "<center> <h4>María José Damián Diez</h4> </center>\n",
        "<center> <h5>21 de mayo de 2023</h5> </center>"
      ],
      "metadata": {
        "id": "bx85PgN8OyhG"
      }
    },
    {
      "cell_type": "markdown",
      "metadata": {
        "id": "DcnnkNilDuKf"
      },
      "source": [
        "# **Multiarmed bandits para Credit Scoring**"
      ]
    },
    {
      "cell_type": "markdown",
      "source": [
        "El objetivo es construir un sistema automático de aprendizaje por refuerzo para gestionar un sistema de concesión de créditos.\n",
        "La idea es que cuando un cliente contacte con el banco para solicitar un crédito, el sistema se lo conceda (acción 1) o no (acción 0).\n",
        "Por tanto el sistema de aprendizaje por refuerzo tiene **dos posibles acciones**.\n",
        "\n",
        "Por otra parte, el reward obtenido es:\n",
        "\n",
        "- 0 si el sistema decide no ofrecerle el crédito al cliente\n",
        "- 1 si se le ofrece el crédito y **lo paga**\n",
        "- -10 si se le ofrece crédito y **no lo paga**\n",
        "\n",
        "Para construir el sistema disponemos del siguiente dataset: https://drive.google.com/file/d/1TdTDAjndt5sn_7HKwc1PifcaQTRNHzkR/view?usp=sharing\n",
        "\n",
        "\n",
        "A continuación se descarga y muestra:"
      ],
      "metadata": {
        "id": "Jxi-eOnaQbH4"
      }
    },
    {
      "cell_type": "code",
      "source": [
        "COLAB = True"
      ],
      "metadata": {
        "id": "0WToo6YOOo-y"
      },
      "execution_count": null,
      "outputs": []
    },
    {
      "cell_type": "code",
      "metadata": {
        "id": "CxwJKtc-ISnD"
      },
      "source": [
        "import pandas as pd\n",
        "pd.options.display.max_colwidth = 200\n",
        "\n",
        "# Descargamos dataset:\n",
        "aux = \"'https://docs.google.com/uc?export=download&id=1000WA5q8DTZ68uoPaXddJ1TLJPBsIZpr&confirm=t'\"\n",
        "!wget -q $aux -O ./cs.csv\n",
        "aux = \"'https://docs.google.com/uc?export=download&id=11SdrmYpGwW7xC6Nooe6aRBkORBnirrkm&confirm=t'\"\n",
        "!wget -q $aux -O ./DataDictionary.csv"
      ],
      "execution_count": null,
      "outputs": []
    },
    {
      "cell_type": "markdown",
      "source": [
        "**Información sobre cada variable:**"
      ],
      "metadata": {
        "id": "sI1C0-YeXP4x"
      }
    },
    {
      "cell_type": "code",
      "source": [
        "info_variables = pd.read_csv(\"DataDictionary.csv\", sep=\";\").set_index(\"Variable Name\")\n",
        "info_variables"
      ],
      "metadata": {
        "id": "oVgn7OxIWCgI",
        "outputId": "212f8096-ce17-4e97-c6b3-44f6952d298a",
        "colab": {
          "base_uri": "https://localhost:8080/",
          "height": 539
        }
      },
      "execution_count": null,
      "outputs": [
        {
          "output_type": "execute_result",
          "data": {
            "text/plain": [
              "                                      Unnamed: 0  \\\n",
              "Variable Name                                      \n",
              "SeriousDlqin2yrs                               0   \n",
              "RevolvingUtilizationOfUnsecuredLines           1   \n",
              "age                                            2   \n",
              "NumberOfTime30-59DaysPastDueNotWorse           3   \n",
              "DebtRatio                                      4   \n",
              "MonthlyIncome                                  5   \n",
              "NumberOfOpenCreditLinesAndLoans                6   \n",
              "NumberOfTimes90DaysLate                        7   \n",
              "NumberRealEstateLoansOrLines                   8   \n",
              "NumberOfTime60-89DaysPastDueNotWorse           9   \n",
              "NumberOfDependents                            10   \n",
              "\n",
              "                                                                                                                                                                                   Description  \\\n",
              "Variable Name                                                                                                                                                                                    \n",
              "SeriousDlqin2yrs                                                                                                                     Person experienced 90 days past due delinquency or worse    \n",
              "RevolvingUtilizationOfUnsecuredLines  Total balance on credit cards and personal lines of credit except real estate and no installment debt like car loans divided by the sum of credit limits   \n",
              "age                                                                                                                                                                   Age of borrower in years   \n",
              "NumberOfTime30-59DaysPastDueNotWorse                                                                   Number of times borrower has been 30-59 days past due but no worse in the last 2 years.   \n",
              "DebtRatio                                                                                                           Monthly debt payments, alimony,living costs divided by monthy gross income   \n",
              "MonthlyIncome                                                                                                                                                                   Monthly income   \n",
              "NumberOfOpenCreditLinesAndLoans                                                           Number of Open loans (installment like car loan or mortgage) and Lines of credit (e.g. credit cards)   \n",
              "NumberOfTimes90DaysLate                                                                                                            Number of times borrower has been 90 days or more past due.   \n",
              "NumberRealEstateLoansOrLines                                                                                    Number of mortgage and real estate loans including home equity lines of credit   \n",
              "NumberOfTime60-89DaysPastDueNotWorse                                                                   Number of times borrower has been 60-89 days past due but no worse in the last 2 years.   \n",
              "NumberOfDependents                                                                                                 Number of dependents in family excluding themselves (spouse, children etc.)   \n",
              "\n",
              "                                            Type  \n",
              "Variable Name                                     \n",
              "SeriousDlqin2yrs                             Y/N  \n",
              "RevolvingUtilizationOfUnsecuredLines  percentage  \n",
              "age                                      integer  \n",
              "NumberOfTime30-59DaysPastDueNotWorse     integer  \n",
              "DebtRatio                             percentage  \n",
              "MonthlyIncome                               real  \n",
              "NumberOfOpenCreditLinesAndLoans          integer  \n",
              "NumberOfTimes90DaysLate                  integer  \n",
              "NumberRealEstateLoansOrLines             integer  \n",
              "NumberOfTime60-89DaysPastDueNotWorse     integer  \n",
              "NumberOfDependents                       integer  "
            ],
            "text/html": [
              "\n",
              "  <div id=\"df-94eb4f82-6ec7-4f44-9bde-dc3115788751\">\n",
              "    <div class=\"colab-df-container\">\n",
              "      <div>\n",
              "<style scoped>\n",
              "    .dataframe tbody tr th:only-of-type {\n",
              "        vertical-align: middle;\n",
              "    }\n",
              "\n",
              "    .dataframe tbody tr th {\n",
              "        vertical-align: top;\n",
              "    }\n",
              "\n",
              "    .dataframe thead th {\n",
              "        text-align: right;\n",
              "    }\n",
              "</style>\n",
              "<table border=\"1\" class=\"dataframe\">\n",
              "  <thead>\n",
              "    <tr style=\"text-align: right;\">\n",
              "      <th></th>\n",
              "      <th>Unnamed: 0</th>\n",
              "      <th>Description</th>\n",
              "      <th>Type</th>\n",
              "    </tr>\n",
              "    <tr>\n",
              "      <th>Variable Name</th>\n",
              "      <th></th>\n",
              "      <th></th>\n",
              "      <th></th>\n",
              "    </tr>\n",
              "  </thead>\n",
              "  <tbody>\n",
              "    <tr>\n",
              "      <th>SeriousDlqin2yrs</th>\n",
              "      <td>0</td>\n",
              "      <td>Person experienced 90 days past due delinquency or worse</td>\n",
              "      <td>Y/N</td>\n",
              "    </tr>\n",
              "    <tr>\n",
              "      <th>RevolvingUtilizationOfUnsecuredLines</th>\n",
              "      <td>1</td>\n",
              "      <td>Total balance on credit cards and personal lines of credit except real estate and no installment debt like car loans divided by the sum of credit limits</td>\n",
              "      <td>percentage</td>\n",
              "    </tr>\n",
              "    <tr>\n",
              "      <th>age</th>\n",
              "      <td>2</td>\n",
              "      <td>Age of borrower in years</td>\n",
              "      <td>integer</td>\n",
              "    </tr>\n",
              "    <tr>\n",
              "      <th>NumberOfTime30-59DaysPastDueNotWorse</th>\n",
              "      <td>3</td>\n",
              "      <td>Number of times borrower has been 30-59 days past due but no worse in the last 2 years.</td>\n",
              "      <td>integer</td>\n",
              "    </tr>\n",
              "    <tr>\n",
              "      <th>DebtRatio</th>\n",
              "      <td>4</td>\n",
              "      <td>Monthly debt payments, alimony,living costs divided by monthy gross income</td>\n",
              "      <td>percentage</td>\n",
              "    </tr>\n",
              "    <tr>\n",
              "      <th>MonthlyIncome</th>\n",
              "      <td>5</td>\n",
              "      <td>Monthly income</td>\n",
              "      <td>real</td>\n",
              "    </tr>\n",
              "    <tr>\n",
              "      <th>NumberOfOpenCreditLinesAndLoans</th>\n",
              "      <td>6</td>\n",
              "      <td>Number of Open loans (installment like car loan or mortgage) and Lines of credit (e.g. credit cards)</td>\n",
              "      <td>integer</td>\n",
              "    </tr>\n",
              "    <tr>\n",
              "      <th>NumberOfTimes90DaysLate</th>\n",
              "      <td>7</td>\n",
              "      <td>Number of times borrower has been 90 days or more past due.</td>\n",
              "      <td>integer</td>\n",
              "    </tr>\n",
              "    <tr>\n",
              "      <th>NumberRealEstateLoansOrLines</th>\n",
              "      <td>8</td>\n",
              "      <td>Number of mortgage and real estate loans including home equity lines of credit</td>\n",
              "      <td>integer</td>\n",
              "    </tr>\n",
              "    <tr>\n",
              "      <th>NumberOfTime60-89DaysPastDueNotWorse</th>\n",
              "      <td>9</td>\n",
              "      <td>Number of times borrower has been 60-89 days past due but no worse in the last 2 years.</td>\n",
              "      <td>integer</td>\n",
              "    </tr>\n",
              "    <tr>\n",
              "      <th>NumberOfDependents</th>\n",
              "      <td>10</td>\n",
              "      <td>Number of dependents in family excluding themselves (spouse, children etc.)</td>\n",
              "      <td>integer</td>\n",
              "    </tr>\n",
              "  </tbody>\n",
              "</table>\n",
              "</div>\n",
              "      <button class=\"colab-df-convert\" onclick=\"convertToInteractive('df-94eb4f82-6ec7-4f44-9bde-dc3115788751')\"\n",
              "              title=\"Convert this dataframe to an interactive table.\"\n",
              "              style=\"display:none;\">\n",
              "        \n",
              "  <svg xmlns=\"http://www.w3.org/2000/svg\" height=\"24px\"viewBox=\"0 0 24 24\"\n",
              "       width=\"24px\">\n",
              "    <path d=\"M0 0h24v24H0V0z\" fill=\"none\"/>\n",
              "    <path d=\"M18.56 5.44l.94 2.06.94-2.06 2.06-.94-2.06-.94-.94-2.06-.94 2.06-2.06.94zm-11 1L8.5 8.5l.94-2.06 2.06-.94-2.06-.94L8.5 2.5l-.94 2.06-2.06.94zm10 10l.94 2.06.94-2.06 2.06-.94-2.06-.94-.94-2.06-.94 2.06-2.06.94z\"/><path d=\"M17.41 7.96l-1.37-1.37c-.4-.4-.92-.59-1.43-.59-.52 0-1.04.2-1.43.59L10.3 9.45l-7.72 7.72c-.78.78-.78 2.05 0 2.83L4 21.41c.39.39.9.59 1.41.59.51 0 1.02-.2 1.41-.59l7.78-7.78 2.81-2.81c.8-.78.8-2.07 0-2.86zM5.41 20L4 18.59l7.72-7.72 1.47 1.35L5.41 20z\"/>\n",
              "  </svg>\n",
              "      </button>\n",
              "      \n",
              "  <style>\n",
              "    .colab-df-container {\n",
              "      display:flex;\n",
              "      flex-wrap:wrap;\n",
              "      gap: 12px;\n",
              "    }\n",
              "\n",
              "    .colab-df-convert {\n",
              "      background-color: #E8F0FE;\n",
              "      border: none;\n",
              "      border-radius: 50%;\n",
              "      cursor: pointer;\n",
              "      display: none;\n",
              "      fill: #1967D2;\n",
              "      height: 32px;\n",
              "      padding: 0 0 0 0;\n",
              "      width: 32px;\n",
              "    }\n",
              "\n",
              "    .colab-df-convert:hover {\n",
              "      background-color: #E2EBFA;\n",
              "      box-shadow: 0px 1px 2px rgba(60, 64, 67, 0.3), 0px 1px 3px 1px rgba(60, 64, 67, 0.15);\n",
              "      fill: #174EA6;\n",
              "    }\n",
              "\n",
              "    [theme=dark] .colab-df-convert {\n",
              "      background-color: #3B4455;\n",
              "      fill: #D2E3FC;\n",
              "    }\n",
              "\n",
              "    [theme=dark] .colab-df-convert:hover {\n",
              "      background-color: #434B5C;\n",
              "      box-shadow: 0px 1px 3px 1px rgba(0, 0, 0, 0.15);\n",
              "      filter: drop-shadow(0px 1px 2px rgba(0, 0, 0, 0.3));\n",
              "      fill: #FFFFFF;\n",
              "    }\n",
              "  </style>\n",
              "\n",
              "      <script>\n",
              "        const buttonEl =\n",
              "          document.querySelector('#df-94eb4f82-6ec7-4f44-9bde-dc3115788751 button.colab-df-convert');\n",
              "        buttonEl.style.display =\n",
              "          google.colab.kernel.accessAllowed ? 'block' : 'none';\n",
              "\n",
              "        async function convertToInteractive(key) {\n",
              "          const element = document.querySelector('#df-94eb4f82-6ec7-4f44-9bde-dc3115788751');\n",
              "          const dataTable =\n",
              "            await google.colab.kernel.invokeFunction('convertToInteractive',\n",
              "                                                     [key], {});\n",
              "          if (!dataTable) return;\n",
              "\n",
              "          const docLinkHtml = 'Like what you see? Visit the ' +\n",
              "            '<a target=\"_blank\" href=https://colab.research.google.com/notebooks/data_table.ipynb>data table notebook</a>'\n",
              "            + ' to learn more about interactive tables.';\n",
              "          element.innerHTML = '';\n",
              "          dataTable['output_type'] = 'display_data';\n",
              "          await google.colab.output.renderOutput(dataTable, element);\n",
              "          const docLink = document.createElement('div');\n",
              "          docLink.innerHTML = docLinkHtml;\n",
              "          element.appendChild(docLink);\n",
              "        }\n",
              "      </script>\n",
              "    </div>\n",
              "  </div>\n",
              "  "
            ]
          },
          "metadata": {},
          "execution_count": 3
        }
      ]
    },
    {
      "cell_type": "markdown",
      "source": [
        "**Base de datos:**"
      ],
      "metadata": {
        "id": "8XNI9JMBXNZw"
      }
    },
    {
      "cell_type": "code",
      "source": [
        "df = pd.read_csv(\"./cs.csv\")\n",
        "df.head(10)"
      ],
      "metadata": {
        "id": "itMi5ivXVPgn",
        "outputId": "0402109b-2707-4ae5-db2c-acb1670a3f9e",
        "colab": {
          "base_uri": "https://localhost:8080/",
          "height": 444
        }
      },
      "execution_count": null,
      "outputs": [
        {
          "output_type": "execute_result",
          "data": {
            "text/plain": [
              "   SeriousDlqin2yrs  RevolvingUtilizationOfUnsecuredLines  age  \\\n",
              "0                 1                              0.766127   45   \n",
              "1                 0                              0.957151   40   \n",
              "2                 0                              0.658180   38   \n",
              "3                 0                              0.233810   30   \n",
              "4                 0                              0.907239   49   \n",
              "5                 0                              0.213179   74   \n",
              "6                 0                              0.305682   57   \n",
              "7                 0                              0.754464   39   \n",
              "8                 0                              0.116951   27   \n",
              "9                 0                              0.189169   57   \n",
              "\n",
              "   NumberOfTime30-59DaysPastDueNotWorse    DebtRatio  MonthlyIncome  \\\n",
              "0                                     2     0.802982         9120.0   \n",
              "1                                     0     0.121876         2600.0   \n",
              "2                                     1     0.085113         3042.0   \n",
              "3                                     0     0.036050         3300.0   \n",
              "4                                     1     0.024926        63588.0   \n",
              "5                                     0     0.375607         3500.0   \n",
              "6                                     0  5710.000000            NaN   \n",
              "7                                     0     0.209940         3500.0   \n",
              "8                                     0    46.000000            NaN   \n",
              "9                                     0     0.606291        23684.0   \n",
              "\n",
              "   NumberOfOpenCreditLinesAndLoans  NumberOfTimes90DaysLate  \\\n",
              "0                               13                        0   \n",
              "1                                4                        0   \n",
              "2                                2                        1   \n",
              "3                                5                        0   \n",
              "4                                7                        0   \n",
              "5                                3                        0   \n",
              "6                                8                        0   \n",
              "7                                8                        0   \n",
              "8                                2                        0   \n",
              "9                                9                        0   \n",
              "\n",
              "   NumberRealEstateLoansOrLines  NumberOfTime60-89DaysPastDueNotWorse  \\\n",
              "0                             6                                     0   \n",
              "1                             0                                     0   \n",
              "2                             0                                     0   \n",
              "3                             0                                     0   \n",
              "4                             1                                     0   \n",
              "5                             1                                     0   \n",
              "6                             3                                     0   \n",
              "7                             0                                     0   \n",
              "8                             0                                     0   \n",
              "9                             4                                     0   \n",
              "\n",
              "   NumberOfDependents  \n",
              "0                 2.0  \n",
              "1                 1.0  \n",
              "2                 0.0  \n",
              "3                 0.0  \n",
              "4                 0.0  \n",
              "5                 1.0  \n",
              "6                 0.0  \n",
              "7                 0.0  \n",
              "8                 NaN  \n",
              "9                 2.0  "
            ],
            "text/html": [
              "\n",
              "  <div id=\"df-c39940a9-f449-4c52-9098-ced8305041a5\">\n",
              "    <div class=\"colab-df-container\">\n",
              "      <div>\n",
              "<style scoped>\n",
              "    .dataframe tbody tr th:only-of-type {\n",
              "        vertical-align: middle;\n",
              "    }\n",
              "\n",
              "    .dataframe tbody tr th {\n",
              "        vertical-align: top;\n",
              "    }\n",
              "\n",
              "    .dataframe thead th {\n",
              "        text-align: right;\n",
              "    }\n",
              "</style>\n",
              "<table border=\"1\" class=\"dataframe\">\n",
              "  <thead>\n",
              "    <tr style=\"text-align: right;\">\n",
              "      <th></th>\n",
              "      <th>SeriousDlqin2yrs</th>\n",
              "      <th>RevolvingUtilizationOfUnsecuredLines</th>\n",
              "      <th>age</th>\n",
              "      <th>NumberOfTime30-59DaysPastDueNotWorse</th>\n",
              "      <th>DebtRatio</th>\n",
              "      <th>MonthlyIncome</th>\n",
              "      <th>NumberOfOpenCreditLinesAndLoans</th>\n",
              "      <th>NumberOfTimes90DaysLate</th>\n",
              "      <th>NumberRealEstateLoansOrLines</th>\n",
              "      <th>NumberOfTime60-89DaysPastDueNotWorse</th>\n",
              "      <th>NumberOfDependents</th>\n",
              "    </tr>\n",
              "  </thead>\n",
              "  <tbody>\n",
              "    <tr>\n",
              "      <th>0</th>\n",
              "      <td>1</td>\n",
              "      <td>0.766127</td>\n",
              "      <td>45</td>\n",
              "      <td>2</td>\n",
              "      <td>0.802982</td>\n",
              "      <td>9120.0</td>\n",
              "      <td>13</td>\n",
              "      <td>0</td>\n",
              "      <td>6</td>\n",
              "      <td>0</td>\n",
              "      <td>2.0</td>\n",
              "    </tr>\n",
              "    <tr>\n",
              "      <th>1</th>\n",
              "      <td>0</td>\n",
              "      <td>0.957151</td>\n",
              "      <td>40</td>\n",
              "      <td>0</td>\n",
              "      <td>0.121876</td>\n",
              "      <td>2600.0</td>\n",
              "      <td>4</td>\n",
              "      <td>0</td>\n",
              "      <td>0</td>\n",
              "      <td>0</td>\n",
              "      <td>1.0</td>\n",
              "    </tr>\n",
              "    <tr>\n",
              "      <th>2</th>\n",
              "      <td>0</td>\n",
              "      <td>0.658180</td>\n",
              "      <td>38</td>\n",
              "      <td>1</td>\n",
              "      <td>0.085113</td>\n",
              "      <td>3042.0</td>\n",
              "      <td>2</td>\n",
              "      <td>1</td>\n",
              "      <td>0</td>\n",
              "      <td>0</td>\n",
              "      <td>0.0</td>\n",
              "    </tr>\n",
              "    <tr>\n",
              "      <th>3</th>\n",
              "      <td>0</td>\n",
              "      <td>0.233810</td>\n",
              "      <td>30</td>\n",
              "      <td>0</td>\n",
              "      <td>0.036050</td>\n",
              "      <td>3300.0</td>\n",
              "      <td>5</td>\n",
              "      <td>0</td>\n",
              "      <td>0</td>\n",
              "      <td>0</td>\n",
              "      <td>0.0</td>\n",
              "    </tr>\n",
              "    <tr>\n",
              "      <th>4</th>\n",
              "      <td>0</td>\n",
              "      <td>0.907239</td>\n",
              "      <td>49</td>\n",
              "      <td>1</td>\n",
              "      <td>0.024926</td>\n",
              "      <td>63588.0</td>\n",
              "      <td>7</td>\n",
              "      <td>0</td>\n",
              "      <td>1</td>\n",
              "      <td>0</td>\n",
              "      <td>0.0</td>\n",
              "    </tr>\n",
              "    <tr>\n",
              "      <th>5</th>\n",
              "      <td>0</td>\n",
              "      <td>0.213179</td>\n",
              "      <td>74</td>\n",
              "      <td>0</td>\n",
              "      <td>0.375607</td>\n",
              "      <td>3500.0</td>\n",
              "      <td>3</td>\n",
              "      <td>0</td>\n",
              "      <td>1</td>\n",
              "      <td>0</td>\n",
              "      <td>1.0</td>\n",
              "    </tr>\n",
              "    <tr>\n",
              "      <th>6</th>\n",
              "      <td>0</td>\n",
              "      <td>0.305682</td>\n",
              "      <td>57</td>\n",
              "      <td>0</td>\n",
              "      <td>5710.000000</td>\n",
              "      <td>NaN</td>\n",
              "      <td>8</td>\n",
              "      <td>0</td>\n",
              "      <td>3</td>\n",
              "      <td>0</td>\n",
              "      <td>0.0</td>\n",
              "    </tr>\n",
              "    <tr>\n",
              "      <th>7</th>\n",
              "      <td>0</td>\n",
              "      <td>0.754464</td>\n",
              "      <td>39</td>\n",
              "      <td>0</td>\n",
              "      <td>0.209940</td>\n",
              "      <td>3500.0</td>\n",
              "      <td>8</td>\n",
              "      <td>0</td>\n",
              "      <td>0</td>\n",
              "      <td>0</td>\n",
              "      <td>0.0</td>\n",
              "    </tr>\n",
              "    <tr>\n",
              "      <th>8</th>\n",
              "      <td>0</td>\n",
              "      <td>0.116951</td>\n",
              "      <td>27</td>\n",
              "      <td>0</td>\n",
              "      <td>46.000000</td>\n",
              "      <td>NaN</td>\n",
              "      <td>2</td>\n",
              "      <td>0</td>\n",
              "      <td>0</td>\n",
              "      <td>0</td>\n",
              "      <td>NaN</td>\n",
              "    </tr>\n",
              "    <tr>\n",
              "      <th>9</th>\n",
              "      <td>0</td>\n",
              "      <td>0.189169</td>\n",
              "      <td>57</td>\n",
              "      <td>0</td>\n",
              "      <td>0.606291</td>\n",
              "      <td>23684.0</td>\n",
              "      <td>9</td>\n",
              "      <td>0</td>\n",
              "      <td>4</td>\n",
              "      <td>0</td>\n",
              "      <td>2.0</td>\n",
              "    </tr>\n",
              "  </tbody>\n",
              "</table>\n",
              "</div>\n",
              "      <button class=\"colab-df-convert\" onclick=\"convertToInteractive('df-c39940a9-f449-4c52-9098-ced8305041a5')\"\n",
              "              title=\"Convert this dataframe to an interactive table.\"\n",
              "              style=\"display:none;\">\n",
              "        \n",
              "  <svg xmlns=\"http://www.w3.org/2000/svg\" height=\"24px\"viewBox=\"0 0 24 24\"\n",
              "       width=\"24px\">\n",
              "    <path d=\"M0 0h24v24H0V0z\" fill=\"none\"/>\n",
              "    <path d=\"M18.56 5.44l.94 2.06.94-2.06 2.06-.94-2.06-.94-.94-2.06-.94 2.06-2.06.94zm-11 1L8.5 8.5l.94-2.06 2.06-.94-2.06-.94L8.5 2.5l-.94 2.06-2.06.94zm10 10l.94 2.06.94-2.06 2.06-.94-2.06-.94-.94-2.06-.94 2.06-2.06.94z\"/><path d=\"M17.41 7.96l-1.37-1.37c-.4-.4-.92-.59-1.43-.59-.52 0-1.04.2-1.43.59L10.3 9.45l-7.72 7.72c-.78.78-.78 2.05 0 2.83L4 21.41c.39.39.9.59 1.41.59.51 0 1.02-.2 1.41-.59l7.78-7.78 2.81-2.81c.8-.78.8-2.07 0-2.86zM5.41 20L4 18.59l7.72-7.72 1.47 1.35L5.41 20z\"/>\n",
              "  </svg>\n",
              "      </button>\n",
              "      \n",
              "  <style>\n",
              "    .colab-df-container {\n",
              "      display:flex;\n",
              "      flex-wrap:wrap;\n",
              "      gap: 12px;\n",
              "    }\n",
              "\n",
              "    .colab-df-convert {\n",
              "      background-color: #E8F0FE;\n",
              "      border: none;\n",
              "      border-radius: 50%;\n",
              "      cursor: pointer;\n",
              "      display: none;\n",
              "      fill: #1967D2;\n",
              "      height: 32px;\n",
              "      padding: 0 0 0 0;\n",
              "      width: 32px;\n",
              "    }\n",
              "\n",
              "    .colab-df-convert:hover {\n",
              "      background-color: #E2EBFA;\n",
              "      box-shadow: 0px 1px 2px rgba(60, 64, 67, 0.3), 0px 1px 3px 1px rgba(60, 64, 67, 0.15);\n",
              "      fill: #174EA6;\n",
              "    }\n",
              "\n",
              "    [theme=dark] .colab-df-convert {\n",
              "      background-color: #3B4455;\n",
              "      fill: #D2E3FC;\n",
              "    }\n",
              "\n",
              "    [theme=dark] .colab-df-convert:hover {\n",
              "      background-color: #434B5C;\n",
              "      box-shadow: 0px 1px 3px 1px rgba(0, 0, 0, 0.15);\n",
              "      filter: drop-shadow(0px 1px 2px rgba(0, 0, 0, 0.3));\n",
              "      fill: #FFFFFF;\n",
              "    }\n",
              "  </style>\n",
              "\n",
              "      <script>\n",
              "        const buttonEl =\n",
              "          document.querySelector('#df-c39940a9-f449-4c52-9098-ced8305041a5 button.colab-df-convert');\n",
              "        buttonEl.style.display =\n",
              "          google.colab.kernel.accessAllowed ? 'block' : 'none';\n",
              "\n",
              "        async function convertToInteractive(key) {\n",
              "          const element = document.querySelector('#df-c39940a9-f449-4c52-9098-ced8305041a5');\n",
              "          const dataTable =\n",
              "            await google.colab.kernel.invokeFunction('convertToInteractive',\n",
              "                                                     [key], {});\n",
              "          if (!dataTable) return;\n",
              "\n",
              "          const docLinkHtml = 'Like what you see? Visit the ' +\n",
              "            '<a target=\"_blank\" href=https://colab.research.google.com/notebooks/data_table.ipynb>data table notebook</a>'\n",
              "            + ' to learn more about interactive tables.';\n",
              "          element.innerHTML = '';\n",
              "          dataTable['output_type'] = 'display_data';\n",
              "          await google.colab.output.renderOutput(dataTable, element);\n",
              "          const docLink = document.createElement('div');\n",
              "          docLink.innerHTML = docLinkHtml;\n",
              "          element.appendChild(docLink);\n",
              "        }\n",
              "      </script>\n",
              "    </div>\n",
              "  </div>\n",
              "  "
            ]
          },
          "metadata": {},
          "execution_count": 4
        }
      ]
    },
    {
      "cell_type": "code",
      "source": [
        "df.describe().T[[\"count\", \"min\", \"max\", \"mean\", \"std\"]]"
      ],
      "metadata": {
        "id": "-RM6yt4-J88D",
        "outputId": "fd853c76-d102-480d-b14b-87ac4f2de16a",
        "colab": {
          "base_uri": "https://localhost:8080/",
          "height": 394
        }
      },
      "execution_count": null,
      "outputs": [
        {
          "output_type": "execute_result",
          "data": {
            "text/plain": [
              "                                         count  min        max         mean  \\\n",
              "SeriousDlqin2yrs                      150000.0  0.0        1.0     0.066840   \n",
              "RevolvingUtilizationOfUnsecuredLines  150000.0  0.0    50708.0     6.048438   \n",
              "age                                   150000.0  0.0      109.0    52.295207   \n",
              "NumberOfTime30-59DaysPastDueNotWorse  150000.0  0.0       98.0     0.421033   \n",
              "DebtRatio                             150000.0  0.0   329664.0   353.005076   \n",
              "MonthlyIncome                         120269.0  0.0  3008750.0  6670.221237   \n",
              "NumberOfOpenCreditLinesAndLoans       150000.0  0.0       58.0     8.452760   \n",
              "NumberOfTimes90DaysLate               150000.0  0.0       98.0     0.265973   \n",
              "NumberRealEstateLoansOrLines          150000.0  0.0       54.0     1.018240   \n",
              "NumberOfTime60-89DaysPastDueNotWorse  150000.0  0.0       98.0     0.240387   \n",
              "NumberOfDependents                    146076.0  0.0       20.0     0.757222   \n",
              "\n",
              "                                               std  \n",
              "SeriousDlqin2yrs                          0.249746  \n",
              "RevolvingUtilizationOfUnsecuredLines    249.755371  \n",
              "age                                      14.771866  \n",
              "NumberOfTime30-59DaysPastDueNotWorse      4.192781  \n",
              "DebtRatio                              2037.818523  \n",
              "MonthlyIncome                         14384.674215  \n",
              "NumberOfOpenCreditLinesAndLoans           5.145951  \n",
              "NumberOfTimes90DaysLate                   4.169304  \n",
              "NumberRealEstateLoansOrLines              1.129771  \n",
              "NumberOfTime60-89DaysPastDueNotWorse      4.155179  \n",
              "NumberOfDependents                        1.115086  "
            ],
            "text/html": [
              "\n",
              "  <div id=\"df-7973adb4-b0f5-4297-8076-3985e85d8e41\">\n",
              "    <div class=\"colab-df-container\">\n",
              "      <div>\n",
              "<style scoped>\n",
              "    .dataframe tbody tr th:only-of-type {\n",
              "        vertical-align: middle;\n",
              "    }\n",
              "\n",
              "    .dataframe tbody tr th {\n",
              "        vertical-align: top;\n",
              "    }\n",
              "\n",
              "    .dataframe thead th {\n",
              "        text-align: right;\n",
              "    }\n",
              "</style>\n",
              "<table border=\"1\" class=\"dataframe\">\n",
              "  <thead>\n",
              "    <tr style=\"text-align: right;\">\n",
              "      <th></th>\n",
              "      <th>count</th>\n",
              "      <th>min</th>\n",
              "      <th>max</th>\n",
              "      <th>mean</th>\n",
              "      <th>std</th>\n",
              "    </tr>\n",
              "  </thead>\n",
              "  <tbody>\n",
              "    <tr>\n",
              "      <th>SeriousDlqin2yrs</th>\n",
              "      <td>150000.0</td>\n",
              "      <td>0.0</td>\n",
              "      <td>1.0</td>\n",
              "      <td>0.066840</td>\n",
              "      <td>0.249746</td>\n",
              "    </tr>\n",
              "    <tr>\n",
              "      <th>RevolvingUtilizationOfUnsecuredLines</th>\n",
              "      <td>150000.0</td>\n",
              "      <td>0.0</td>\n",
              "      <td>50708.0</td>\n",
              "      <td>6.048438</td>\n",
              "      <td>249.755371</td>\n",
              "    </tr>\n",
              "    <tr>\n",
              "      <th>age</th>\n",
              "      <td>150000.0</td>\n",
              "      <td>0.0</td>\n",
              "      <td>109.0</td>\n",
              "      <td>52.295207</td>\n",
              "      <td>14.771866</td>\n",
              "    </tr>\n",
              "    <tr>\n",
              "      <th>NumberOfTime30-59DaysPastDueNotWorse</th>\n",
              "      <td>150000.0</td>\n",
              "      <td>0.0</td>\n",
              "      <td>98.0</td>\n",
              "      <td>0.421033</td>\n",
              "      <td>4.192781</td>\n",
              "    </tr>\n",
              "    <tr>\n",
              "      <th>DebtRatio</th>\n",
              "      <td>150000.0</td>\n",
              "      <td>0.0</td>\n",
              "      <td>329664.0</td>\n",
              "      <td>353.005076</td>\n",
              "      <td>2037.818523</td>\n",
              "    </tr>\n",
              "    <tr>\n",
              "      <th>MonthlyIncome</th>\n",
              "      <td>120269.0</td>\n",
              "      <td>0.0</td>\n",
              "      <td>3008750.0</td>\n",
              "      <td>6670.221237</td>\n",
              "      <td>14384.674215</td>\n",
              "    </tr>\n",
              "    <tr>\n",
              "      <th>NumberOfOpenCreditLinesAndLoans</th>\n",
              "      <td>150000.0</td>\n",
              "      <td>0.0</td>\n",
              "      <td>58.0</td>\n",
              "      <td>8.452760</td>\n",
              "      <td>5.145951</td>\n",
              "    </tr>\n",
              "    <tr>\n",
              "      <th>NumberOfTimes90DaysLate</th>\n",
              "      <td>150000.0</td>\n",
              "      <td>0.0</td>\n",
              "      <td>98.0</td>\n",
              "      <td>0.265973</td>\n",
              "      <td>4.169304</td>\n",
              "    </tr>\n",
              "    <tr>\n",
              "      <th>NumberRealEstateLoansOrLines</th>\n",
              "      <td>150000.0</td>\n",
              "      <td>0.0</td>\n",
              "      <td>54.0</td>\n",
              "      <td>1.018240</td>\n",
              "      <td>1.129771</td>\n",
              "    </tr>\n",
              "    <tr>\n",
              "      <th>NumberOfTime60-89DaysPastDueNotWorse</th>\n",
              "      <td>150000.0</td>\n",
              "      <td>0.0</td>\n",
              "      <td>98.0</td>\n",
              "      <td>0.240387</td>\n",
              "      <td>4.155179</td>\n",
              "    </tr>\n",
              "    <tr>\n",
              "      <th>NumberOfDependents</th>\n",
              "      <td>146076.0</td>\n",
              "      <td>0.0</td>\n",
              "      <td>20.0</td>\n",
              "      <td>0.757222</td>\n",
              "      <td>1.115086</td>\n",
              "    </tr>\n",
              "  </tbody>\n",
              "</table>\n",
              "</div>\n",
              "      <button class=\"colab-df-convert\" onclick=\"convertToInteractive('df-7973adb4-b0f5-4297-8076-3985e85d8e41')\"\n",
              "              title=\"Convert this dataframe to an interactive table.\"\n",
              "              style=\"display:none;\">\n",
              "        \n",
              "  <svg xmlns=\"http://www.w3.org/2000/svg\" height=\"24px\"viewBox=\"0 0 24 24\"\n",
              "       width=\"24px\">\n",
              "    <path d=\"M0 0h24v24H0V0z\" fill=\"none\"/>\n",
              "    <path d=\"M18.56 5.44l.94 2.06.94-2.06 2.06-.94-2.06-.94-.94-2.06-.94 2.06-2.06.94zm-11 1L8.5 8.5l.94-2.06 2.06-.94-2.06-.94L8.5 2.5l-.94 2.06-2.06.94zm10 10l.94 2.06.94-2.06 2.06-.94-2.06-.94-.94-2.06-.94 2.06-2.06.94z\"/><path d=\"M17.41 7.96l-1.37-1.37c-.4-.4-.92-.59-1.43-.59-.52 0-1.04.2-1.43.59L10.3 9.45l-7.72 7.72c-.78.78-.78 2.05 0 2.83L4 21.41c.39.39.9.59 1.41.59.51 0 1.02-.2 1.41-.59l7.78-7.78 2.81-2.81c.8-.78.8-2.07 0-2.86zM5.41 20L4 18.59l7.72-7.72 1.47 1.35L5.41 20z\"/>\n",
              "  </svg>\n",
              "      </button>\n",
              "      \n",
              "  <style>\n",
              "    .colab-df-container {\n",
              "      display:flex;\n",
              "      flex-wrap:wrap;\n",
              "      gap: 12px;\n",
              "    }\n",
              "\n",
              "    .colab-df-convert {\n",
              "      background-color: #E8F0FE;\n",
              "      border: none;\n",
              "      border-radius: 50%;\n",
              "      cursor: pointer;\n",
              "      display: none;\n",
              "      fill: #1967D2;\n",
              "      height: 32px;\n",
              "      padding: 0 0 0 0;\n",
              "      width: 32px;\n",
              "    }\n",
              "\n",
              "    .colab-df-convert:hover {\n",
              "      background-color: #E2EBFA;\n",
              "      box-shadow: 0px 1px 2px rgba(60, 64, 67, 0.3), 0px 1px 3px 1px rgba(60, 64, 67, 0.15);\n",
              "      fill: #174EA6;\n",
              "    }\n",
              "\n",
              "    [theme=dark] .colab-df-convert {\n",
              "      background-color: #3B4455;\n",
              "      fill: #D2E3FC;\n",
              "    }\n",
              "\n",
              "    [theme=dark] .colab-df-convert:hover {\n",
              "      background-color: #434B5C;\n",
              "      box-shadow: 0px 1px 3px 1px rgba(0, 0, 0, 0.15);\n",
              "      filter: drop-shadow(0px 1px 2px rgba(0, 0, 0, 0.3));\n",
              "      fill: #FFFFFF;\n",
              "    }\n",
              "  </style>\n",
              "\n",
              "      <script>\n",
              "        const buttonEl =\n",
              "          document.querySelector('#df-7973adb4-b0f5-4297-8076-3985e85d8e41 button.colab-df-convert');\n",
              "        buttonEl.style.display =\n",
              "          google.colab.kernel.accessAllowed ? 'block' : 'none';\n",
              "\n",
              "        async function convertToInteractive(key) {\n",
              "          const element = document.querySelector('#df-7973adb4-b0f5-4297-8076-3985e85d8e41');\n",
              "          const dataTable =\n",
              "            await google.colab.kernel.invokeFunction('convertToInteractive',\n",
              "                                                     [key], {});\n",
              "          if (!dataTable) return;\n",
              "\n",
              "          const docLinkHtml = 'Like what you see? Visit the ' +\n",
              "            '<a target=\"_blank\" href=https://colab.research.google.com/notebooks/data_table.ipynb>data table notebook</a>'\n",
              "            + ' to learn more about interactive tables.';\n",
              "          element.innerHTML = '';\n",
              "          dataTable['output_type'] = 'display_data';\n",
              "          await google.colab.output.renderOutput(dataTable, element);\n",
              "          const docLink = document.createElement('div');\n",
              "          docLink.innerHTML = docLinkHtml;\n",
              "          element.appendChild(docLink);\n",
              "        }\n",
              "      </script>\n",
              "    </div>\n",
              "  </div>\n",
              "  "
            ]
          },
          "metadata": {},
          "execution_count": 5
        }
      ]
    },
    {
      "cell_type": "code",
      "source": [
        "df.isna().sum()"
      ],
      "metadata": {
        "id": "WG_ftQf1LQiB",
        "outputId": "48ed5210-d478-4b2d-9c7c-555e10a046a7",
        "colab": {
          "base_uri": "https://localhost:8080/"
        }
      },
      "execution_count": null,
      "outputs": [
        {
          "output_type": "execute_result",
          "data": {
            "text/plain": [
              "SeriousDlqin2yrs                            0\n",
              "RevolvingUtilizationOfUnsecuredLines        0\n",
              "age                                         0\n",
              "NumberOfTime30-59DaysPastDueNotWorse        0\n",
              "DebtRatio                                   0\n",
              "MonthlyIncome                           29731\n",
              "NumberOfOpenCreditLinesAndLoans             0\n",
              "NumberOfTimes90DaysLate                     0\n",
              "NumberRealEstateLoansOrLines                0\n",
              "NumberOfTime60-89DaysPastDueNotWorse        0\n",
              "NumberOfDependents                       3924\n",
              "dtype: int64"
            ]
          },
          "metadata": {},
          "execution_count": 6
        }
      ]
    },
    {
      "cell_type": "code",
      "source": [
        "(df[\"MonthlyIncome\"].isna() & df[\"NumberOfDependents\"].isna()).sum()"
      ],
      "metadata": {
        "id": "AnySzcmOJ8--",
        "outputId": "5dc87a5b-75c7-424a-8be0-b05a2da075e0",
        "colab": {
          "base_uri": "https://localhost:8080/"
        }
      },
      "execution_count": null,
      "outputs": [
        {
          "output_type": "execute_result",
          "data": {
            "text/plain": [
              "3924"
            ]
          },
          "metadata": {},
          "execution_count": 7
        }
      ]
    },
    {
      "cell_type": "code",
      "source": [
        "df[\"age\"].hist(bins=20);"
      ],
      "metadata": {
        "id": "Mhs-BQ56J9Cd",
        "outputId": "d7831aec-2f22-4e7d-9e01-47b76dcf773c",
        "colab": {
          "base_uri": "https://localhost:8080/",
          "height": 430
        }
      },
      "execution_count": null,
      "outputs": [
        {
          "output_type": "display_data",
          "data": {
            "text/plain": [
              "<Figure size 640x480 with 1 Axes>"
            ],
            "image/png": "[encoded data removed]"
          },
          "metadata": {}
        }
      ]
    },
    {
      "cell_type": "code",
      "source": [
        "df[\"NumberOfTime30-59DaysPastDueNotWorse\"].value_counts()"
      ],
      "metadata": {
        "id": "E35zNgfDJ9E4",
        "outputId": "a2424731-476a-4c6f-ce1c-b498bcb12e08",
        "colab": {
          "base_uri": "https://localhost:8080/"
        }
      },
      "execution_count": null,
      "outputs": [
        {
          "output_type": "execute_result",
          "data": {
            "text/plain": [
              "0     126018\n",
              "1      16033\n",
              "2       4598\n",
              "3       1754\n",
              "4        747\n",
              "5        342\n",
              "98       264\n",
              "6        140\n",
              "7         54\n",
              "8         25\n",
              "9         12\n",
              "96         5\n",
              "10         4\n",
              "12         2\n",
              "13         1\n",
              "11         1\n",
              "Name: NumberOfTime30-59DaysPastDueNotWorse, dtype: int64"
            ]
          },
          "metadata": {},
          "execution_count": 9
        }
      ]
    },
    {
      "cell_type": "code",
      "source": [
        "# limpieza básica:\n",
        "#\n",
        "# 1- Eliminamos filas con missing values (MonthlyIncome y NumberOfDependents)\n",
        "# 2- Nos quedamos solo con personas de 18 a 70 años (incluidos)\n",
        "# 3- Eliminamos filas que tengan 96 o 98 en columnas de retraso\n",
        "#    (NumberOfTime30-59DaysPastDueNotWorse, NumberOfTime60-89DaysPastDueNotWorse,\n",
        "#     NumberOfTimes90DaysLate)\n",
        "\n",
        "df.dropna(inplace=True)\n",
        "df = df[ (df[\"age\"]>=18) & (df[\"age\"]<=70) ]\n",
        "\n",
        "df = df[ ~df[\"NumberOfTime30-59DaysPastDueNotWorse\"].isin([96, 98]) ]\n",
        "df = df[ ~df[\"NumberOfTime60-89DaysPastDueNotWorse\"].isin([96, 98]) ]\n",
        "df = df[ ~df[\"NumberOfTimes90DaysLate\"].isin([96, 98]) ]"
      ],
      "metadata": {
        "id": "JiadOarZPO4C"
      },
      "execution_count": null,
      "outputs": []
    },
    {
      "cell_type": "code",
      "source": [
        "df.describe().T"
      ],
      "metadata": {
        "id": "aVVgx2eLP4xY",
        "outputId": "cd09352c-ac8a-405a-c6e1-73fef5e33453",
        "colab": {
          "base_uri": "https://localhost:8080/",
          "height": 394
        }
      },
      "execution_count": null,
      "outputs": [
        {
          "output_type": "execute_result",
          "data": {
            "text/plain": [
              "                                         count         mean           std  \\\n",
              "SeriousDlqin2yrs                      107883.0     0.073728      0.261329   \n",
              "RevolvingUtilizationOfUnsecuredLines  107883.0     6.262285    268.425237   \n",
              "age                                   107883.0    48.343835     11.909195   \n",
              "NumberOfTime30-59DaysPastDueNotWorse  107883.0     0.276781      0.739606   \n",
              "DebtRatio                             107883.0    27.426863    395.986811   \n",
              "MonthlyIncome                         107883.0  6800.816625  14941.921271   \n",
              "NumberOfOpenCreditLinesAndLoans       107883.0     8.774265      5.155074   \n",
              "NumberOfTimes90DaysLate               107883.0     0.098588      0.509666   \n",
              "NumberRealEstateLoansOrLines          107883.0     1.095233      1.157615   \n",
              "NumberOfTime60-89DaysPastDueNotWorse  107883.0     0.072106      0.348840   \n",
              "NumberOfDependents                    107883.0     0.926865      1.178963   \n",
              "\n",
              "                                       min          25%          50%  \\\n",
              "SeriousDlqin2yrs                       0.0     0.000000     0.000000   \n",
              "RevolvingUtilizationOfUnsecuredLines   0.0     0.042982     0.206481   \n",
              "age                                   21.0    39.000000    49.000000   \n",
              "NumberOfTime30-59DaysPastDueNotWorse   0.0     0.000000     0.000000   \n",
              "DebtRatio                              0.0     0.162018     0.308917   \n",
              "MonthlyIncome                          0.0  3500.000000  5500.000000   \n",
              "NumberOfOpenCreditLinesAndLoans        0.0     5.000000     8.000000   \n",
              "NumberOfTimes90DaysLate                0.0     0.000000     0.000000   \n",
              "NumberRealEstateLoansOrLines           0.0     0.000000     1.000000   \n",
              "NumberOfTime60-89DaysPastDueNotWorse   0.0     0.000000     0.000000   \n",
              "NumberOfDependents                     0.0     0.000000     0.000000   \n",
              "\n",
              "                                              75%        max  \n",
              "SeriousDlqin2yrs                         0.000000        1.0  \n",
              "RevolvingUtilizationOfUnsecuredLines     0.617870    50708.0  \n",
              "age                                     58.000000       70.0  \n",
              "NumberOfTime30-59DaysPastDueNotWorse     0.000000       13.0  \n",
              "DebtRatio                                0.493251    60212.0  \n",
              "MonthlyIncome                         8344.000000  3008750.0  \n",
              "NumberOfOpenCreditLinesAndLoans         11.000000       58.0  \n",
              "NumberOfTimes90DaysLate                  0.000000       17.0  \n",
              "NumberRealEstateLoansOrLines             2.000000       54.0  \n",
              "NumberOfTime60-89DaysPastDueNotWorse     0.000000       11.0  \n",
              "NumberOfDependents                       2.000000       20.0  "
            ],
            "text/html": [
              "\n",
              "  <div id=\"df-813e2aa1-c4ee-4898-ae2c-4c57f9c5a181\">\n",
              "    <div class=\"colab-df-container\">\n",
              "      <div>\n",
              "<style scoped>\n",
              "    .dataframe tbody tr th:only-of-type {\n",
              "        vertical-align: middle;\n",
              "    }\n",
              "\n",
              "    .dataframe tbody tr th {\n",
              "        vertical-align: top;\n",
              "    }\n",
              "\n",
              "    .dataframe thead th {\n",
              "        text-align: right;\n",
              "    }\n",
              "</style>\n",
              "<table border=\"1\" class=\"dataframe\">\n",
              "  <thead>\n",
              "    <tr style=\"text-align: right;\">\n",
              "      <th></th>\n",
              "      <th>count</th>\n",
              "      <th>mean</th>\n",
              "      <th>std</th>\n",
              "      <th>min</th>\n",
              "      <th>25%</th>\n",
              "      <th>50%</th>\n",
              "      <th>75%</th>\n",
              "      <th>max</th>\n",
              "    </tr>\n",
              "  </thead>\n",
              "  <tbody>\n",
              "    <tr>\n",
              "      <th>SeriousDlqin2yrs</th>\n",
              "      <td>107883.0</td>\n",
              "      <td>0.073728</td>\n",
              "      <td>0.261329</td>\n",
              "      <td>0.0</td>\n",
              "      <td>0.000000</td>\n",
              "      <td>0.000000</td>\n",
              "      <td>0.000000</td>\n",
              "      <td>1.0</td>\n",
              "    </tr>\n",
              "    <tr>\n",
              "      <th>RevolvingUtilizationOfUnsecuredLines</th>\n",
              "      <td>107883.0</td>\n",
              "      <td>6.262285</td>\n",
              "      <td>268.425237</td>\n",
              "      <td>0.0</td>\n",
              "      <td>0.042982</td>\n",
              "      <td>0.206481</td>\n",
              "      <td>0.617870</td>\n",
              "      <td>50708.0</td>\n",
              "    </tr>\n",
              "    <tr>\n",
              "      <th>age</th>\n",
              "      <td>107883.0</td>\n",
              "      <td>48.343835</td>\n",
              "      <td>11.909195</td>\n",
              "      <td>21.0</td>\n",
              "      <td>39.000000</td>\n",
              "      <td>49.000000</td>\n",
              "      <td>58.000000</td>\n",
              "      <td>70.0</td>\n",
              "    </tr>\n",
              "    <tr>\n",
              "      <th>NumberOfTime30-59DaysPastDueNotWorse</th>\n",
              "      <td>107883.0</td>\n",
              "      <td>0.276781</td>\n",
              "      <td>0.739606</td>\n",
              "      <td>0.0</td>\n",
              "      <td>0.000000</td>\n",
              "      <td>0.000000</td>\n",
              "      <td>0.000000</td>\n",
              "      <td>13.0</td>\n",
              "    </tr>\n",
              "    <tr>\n",
              "      <th>DebtRatio</th>\n",
              "      <td>107883.0</td>\n",
              "      <td>27.426863</td>\n",
              "      <td>395.986811</td>\n",
              "      <td>0.0</td>\n",
              "      <td>0.162018</td>\n",
              "      <td>0.308917</td>\n",
              "      <td>0.493251</td>\n",
              "      <td>60212.0</td>\n",
              "    </tr>\n",
              "    <tr>\n",
              "      <th>MonthlyIncome</th>\n",
              "      <td>107883.0</td>\n",
              "      <td>6800.816625</td>\n",
              "      <td>14941.921271</td>\n",
              "      <td>0.0</td>\n",
              "      <td>3500.000000</td>\n",
              "      <td>5500.000000</td>\n",
              "      <td>8344.000000</td>\n",
              "      <td>3008750.0</td>\n",
              "    </tr>\n",
              "    <tr>\n",
              "      <th>NumberOfOpenCreditLinesAndLoans</th>\n",
              "      <td>107883.0</td>\n",
              "      <td>8.774265</td>\n",
              "      <td>5.155074</td>\n",
              "      <td>0.0</td>\n",
              "      <td>5.000000</td>\n",
              "      <td>8.000000</td>\n",
              "      <td>11.000000</td>\n",
              "      <td>58.0</td>\n",
              "    </tr>\n",
              "    <tr>\n",
              "      <th>NumberOfTimes90DaysLate</th>\n",
              "      <td>107883.0</td>\n",
              "      <td>0.098588</td>\n",
              "      <td>0.509666</td>\n",
              "      <td>0.0</td>\n",
              "      <td>0.000000</td>\n",
              "      <td>0.000000</td>\n",
              "      <td>0.000000</td>\n",
              "      <td>17.0</td>\n",
              "    </tr>\n",
              "    <tr>\n",
              "      <th>NumberRealEstateLoansOrLines</th>\n",
              "      <td>107883.0</td>\n",
              "      <td>1.095233</td>\n",
              "      <td>1.157615</td>\n",
              "      <td>0.0</td>\n",
              "      <td>0.000000</td>\n",
              "      <td>1.000000</td>\n",
              "      <td>2.000000</td>\n",
              "      <td>54.0</td>\n",
              "    </tr>\n",
              "    <tr>\n",
              "      <th>NumberOfTime60-89DaysPastDueNotWorse</th>\n",
              "      <td>107883.0</td>\n",
              "      <td>0.072106</td>\n",
              "      <td>0.348840</td>\n",
              "      <td>0.0</td>\n",
              "      <td>0.000000</td>\n",
              "      <td>0.000000</td>\n",
              "      <td>0.000000</td>\n",
              "      <td>11.0</td>\n",
              "    </tr>\n",
              "    <tr>\n",
              "      <th>NumberOfDependents</th>\n",
              "      <td>107883.0</td>\n",
              "      <td>0.926865</td>\n",
              "      <td>1.178963</td>\n",
              "      <td>0.0</td>\n",
              "      <td>0.000000</td>\n",
              "      <td>0.000000</td>\n",
              "      <td>2.000000</td>\n",
              "      <td>20.0</td>\n",
              "    </tr>\n",
              "  </tbody>\n",
              "</table>\n",
              "</div>\n",
              "      <button class=\"colab-df-convert\" onclick=\"convertToInteractive('df-813e2aa1-c4ee-4898-ae2c-4c57f9c5a181')\"\n",
              "              title=\"Convert this dataframe to an interactive table.\"\n",
              "              style=\"display:none;\">\n",
              "        \n",
              "  <svg xmlns=\"http://www.w3.org/2000/svg\" height=\"24px\"viewBox=\"0 0 24 24\"\n",
              "       width=\"24px\">\n",
              "    <path d=\"M0 0h24v24H0V0z\" fill=\"none\"/>\n",
              "    <path d=\"M18.56 5.44l.94 2.06.94-2.06 2.06-.94-2.06-.94-.94-2.06-.94 2.06-2.06.94zm-11 1L8.5 8.5l.94-2.06 2.06-.94-2.06-.94L8.5 2.5l-.94 2.06-2.06.94zm10 10l.94 2.06.94-2.06 2.06-.94-2.06-.94-.94-2.06-.94 2.06-2.06.94z\"/><path d=\"M17.41 7.96l-1.37-1.37c-.4-.4-.92-.59-1.43-.59-.52 0-1.04.2-1.43.59L10.3 9.45l-7.72 7.72c-.78.78-.78 2.05 0 2.83L4 21.41c.39.39.9.59 1.41.59.51 0 1.02-.2 1.41-.59l7.78-7.78 2.81-2.81c.8-.78.8-2.07 0-2.86zM5.41 20L4 18.59l7.72-7.72 1.47 1.35L5.41 20z\"/>\n",
              "  </svg>\n",
              "      </button>\n",
              "      \n",
              "  <style>\n",
              "    .colab-df-container {\n",
              "      display:flex;\n",
              "      flex-wrap:wrap;\n",
              "      gap: 12px;\n",
              "    }\n",
              "\n",
              "    .colab-df-convert {\n",
              "      background-color: #E8F0FE;\n",
              "      border: none;\n",
              "      border-radius: 50%;\n",
              "      cursor: pointer;\n",
              "      display: none;\n",
              "      fill: #1967D2;\n",
              "      height: 32px;\n",
              "      padding: 0 0 0 0;\n",
              "      width: 32px;\n",
              "    }\n",
              "\n",
              "    .colab-df-convert:hover {\n",
              "      background-color: #E2EBFA;\n",
              "      box-shadow: 0px 1px 2px rgba(60, 64, 67, 0.3), 0px 1px 3px 1px rgba(60, 64, 67, 0.15);\n",
              "      fill: #174EA6;\n",
              "    }\n",
              "\n",
              "    [theme=dark] .colab-df-convert {\n",
              "      background-color: #3B4455;\n",
              "      fill: #D2E3FC;\n",
              "    }\n",
              "\n",
              "    [theme=dark] .colab-df-convert:hover {\n",
              "      background-color: #434B5C;\n",
              "      box-shadow: 0px 1px 3px 1px rgba(0, 0, 0, 0.15);\n",
              "      filter: drop-shadow(0px 1px 2px rgba(0, 0, 0, 0.3));\n",
              "      fill: #FFFFFF;\n",
              "    }\n",
              "  </style>\n",
              "\n",
              "      <script>\n",
              "        const buttonEl =\n",
              "          document.querySelector('#df-813e2aa1-c4ee-4898-ae2c-4c57f9c5a181 button.colab-df-convert');\n",
              "        buttonEl.style.display =\n",
              "          google.colab.kernel.accessAllowed ? 'block' : 'none';\n",
              "\n",
              "        async function convertToInteractive(key) {\n",
              "          const element = document.querySelector('#df-813e2aa1-c4ee-4898-ae2c-4c57f9c5a181');\n",
              "          const dataTable =\n",
              "            await google.colab.kernel.invokeFunction('convertToInteractive',\n",
              "                                                     [key], {});\n",
              "          if (!dataTable) return;\n",
              "\n",
              "          const docLinkHtml = 'Like what you see? Visit the ' +\n",
              "            '<a target=\"_blank\" href=https://colab.research.google.com/notebooks/data_table.ipynb>data table notebook</a>'\n",
              "            + ' to learn more about interactive tables.';\n",
              "          element.innerHTML = '';\n",
              "          dataTable['output_type'] = 'display_data';\n",
              "          await google.colab.output.renderOutput(dataTable, element);\n",
              "          const docLink = document.createElement('div');\n",
              "          docLink.innerHTML = docLinkHtml;\n",
              "          element.appendChild(docLink);\n",
              "        }\n",
              "      </script>\n",
              "    </div>\n",
              "  </div>\n",
              "  "
            ]
          },
          "metadata": {},
          "execution_count": 11
        }
      ]
    },
    {
      "cell_type": "markdown",
      "metadata": {
        "id": "cjoL4G6AENmk"
      },
      "source": [
        "La columna **SeriousDlqin2yrs** es 0 si el cliente paga el crédito, y 1 si no lo paga."
      ]
    },
    {
      "cell_type": "markdown",
      "source": [
        "Ahora dividimos el dataset en training y test:"
      ],
      "metadata": {
        "id": "kMuHirqXJsAT"
      }
    },
    {
      "cell_type": "code",
      "source": [
        "from sklearn.model_selection import train_test_split\n",
        "\n",
        "df_train, df_test = train_test_split(df, random_state=1, test_size=0.3, stratify=df[\"SeriousDlqin2yrs\"])"
      ],
      "metadata": {
        "id": "FbDEYWzJJvkV"
      },
      "execution_count": null,
      "outputs": []
    },
    {
      "cell_type": "code",
      "source": [
        "# frecuencia de impagos en training y test (en tanto por 1):\n",
        "df_train[\"SeriousDlqin2yrs\"].mean(), df_test[\"SeriousDlqin2yrs\"].mean()"
      ],
      "metadata": {
        "id": "XUaBPgU0TdDx",
        "colab": {
          "base_uri": "https://localhost:8080/"
        },
        "outputId": "f971df19-7f00-4702-ea7e-aeedb790f46e"
      },
      "execution_count": null,
      "outputs": [
        {
          "output_type": "execute_result",
          "data": {
            "text/plain": [
              "(0.07373076617495167, 0.073721612853391)"
            ]
          },
          "metadata": {},
          "execution_count": 13
        }
      ]
    },
    {
      "cell_type": "code",
      "source": [
        "# Defino clase clientes:\n",
        "\n",
        "class clientes:\n",
        "    def __init__(self, df): # self: parámetros internos\n",
        "        # mi clase va a tener dos parámetros internos:\n",
        "        # i, df\n",
        "        self.i = -1 # i: contador (de clientes); índice al último cliente mostrado\n",
        "        self.df = df\n",
        "    def cliente(self): # va a simular que llega un cliente\n",
        "        self.i = self.i + 1\n",
        "        if self.i == len(self.df):\n",
        "            self.i = 0\n",
        "    def get_context(self): # va a extraer datos de ese cliente\n",
        "        return self.df.iloc[self.i].drop(\"SeriousDlqin2yrs\")\n",
        "    def get_reward(self, accion): # reward con ese cliente\n",
        "        # calculo reward:\n",
        "        if accion==0: # no se da crédito\n",
        "            return 0\n",
        "        # se da crédito:\n",
        "        if self.df.iloc[self.i][\"SeriousDlqin2yrs\"] == 1: # no paga\n",
        "            return -10\n",
        "        return 1 # paga"
      ],
      "metadata": {
        "id": "krELdxYQX7Y-"
      },
      "execution_count": null,
      "outputs": []
    },
    {
      "cell_type": "code",
      "source": [
        "# clientes: una clase\n",
        "# cl_train: una instancia de esa clase\n",
        "# cl_test: otra instancia de esa clase\n",
        "#\n",
        "# podemos ver cl_train como una \"caja\" donde hemos\n",
        "# metido el dataset de entrenamiento y va a haber\n",
        "# métodos que me permiten interaccionar con él\n",
        "#\n",
        "# Lo mismo con cl_test, pero para los datos de test\n",
        "\n",
        "cl_train = clientes(df_train)\n",
        "cl_test  = clientes(df_test)"
      ],
      "metadata": {
        "id": "8IDBuhXHMaZ2"
      },
      "execution_count": null,
      "outputs": []
    },
    {
      "cell_type": "code",
      "source": [
        "cl_train.cliente() # simulo que llega un cliente nuevo"
      ],
      "metadata": {
        "id": "KRykQEHGMgMF"
      },
      "execution_count": null,
      "outputs": []
    },
    {
      "cell_type": "code",
      "source": [
        "cl_train.get_context()"
      ],
      "metadata": {
        "id": "oCGuz2BHMrnT",
        "colab": {
          "base_uri": "https://localhost:8080/"
        },
        "outputId": "d1e723d0-e6ae-4441-f29c-017f33b22b62"
      },
      "execution_count": null,
      "outputs": [
        {
          "output_type": "execute_result",
          "data": {
            "text/plain": [
              "RevolvingUtilizationOfUnsecuredLines        0.064833\n",
              "age                                        59.000000\n",
              "NumberOfTime30-59DaysPastDueNotWorse        0.000000\n",
              "DebtRatio                                   0.156957\n",
              "MonthlyIncome                           16666.000000\n",
              "NumberOfOpenCreditLinesAndLoans             5.000000\n",
              "NumberOfTimes90DaysLate                     0.000000\n",
              "NumberRealEstateLoansOrLines                1.000000\n",
              "NumberOfTime60-89DaysPastDueNotWorse        0.000000\n",
              "NumberOfDependents                          2.000000\n",
              "Name: 135262, dtype: float64"
            ]
          },
          "metadata": {},
          "execution_count": 17
        }
      ]
    },
    {
      "cell_type": "code",
      "source": [
        "cl_train.get_context().values"
      ],
      "metadata": {
        "id": "_xMOjfOgVzq9",
        "colab": {
          "base_uri": "https://localhost:8080/"
        },
        "outputId": "29cef211-3b5c-4b33-9435-79d2d9472e05"
      },
      "execution_count": null,
      "outputs": [
        {
          "output_type": "execute_result",
          "data": {
            "text/plain": [
              "array([6.48325870e-02, 5.90000000e+01, 0.00000000e+00, 1.56956861e-01,\n",
              "       1.66660000e+04, 5.00000000e+00, 0.00000000e+00, 1.00000000e+00,\n",
              "       0.00000000e+00, 2.00000000e+00])"
            ]
          },
          "metadata": {},
          "execution_count": 18
        }
      ]
    },
    {
      "cell_type": "code",
      "source": [
        "cl_train.cliente()\n",
        "cl_train.get_context()"
      ],
      "metadata": {
        "id": "uS-XoSy5Mvnb",
        "colab": {
          "base_uri": "https://localhost:8080/"
        },
        "outputId": "1a0e18ac-0ca7-4652-893b-b12ead38158d"
      },
      "execution_count": null,
      "outputs": [
        {
          "output_type": "execute_result",
          "data": {
            "text/plain": [
              "RevolvingUtilizationOfUnsecuredLines       0.209079\n",
              "age                                       30.000000\n",
              "NumberOfTime30-59DaysPastDueNotWorse       0.000000\n",
              "DebtRatio                                  0.129946\n",
              "MonthlyIncome                           2400.000000\n",
              "NumberOfOpenCreditLinesAndLoans            7.000000\n",
              "NumberOfTimes90DaysLate                    0.000000\n",
              "NumberRealEstateLoansOrLines               0.000000\n",
              "NumberOfTime60-89DaysPastDueNotWorse       0.000000\n",
              "NumberOfDependents                         0.000000\n",
              "Name: 14308, dtype: float64"
            ]
          },
          "metadata": {},
          "execution_count": 19
        }
      ]
    },
    {
      "cell_type": "code",
      "source": [
        "cl_train.get_reward(1)"
      ],
      "metadata": {
        "id": "UzFemdPdM0Lr",
        "colab": {
          "base_uri": "https://localhost:8080/"
        },
        "outputId": "9d6e4cb6-3c84-47c0-eb8e-17dbeb7c8010"
      },
      "execution_count": null,
      "outputs": [
        {
          "output_type": "execute_result",
          "data": {
            "text/plain": [
              "1"
            ]
          },
          "metadata": {},
          "execution_count": 20
        }
      ]
    },
    {
      "cell_type": "markdown",
      "metadata": {
        "id": "wiykx8oMq8-t"
      },
      "source": [
        "# **Tareas a realizar**"
      ]
    },
    {
      "cell_type": "markdown",
      "source": [
        "1- Calcula la evolución del reward total y regret total en training de:\n",
        " a) un algoritmo aleatorio\n",
        " b) un algoritmo que siempre da el crédito\n",
        " c) un algoritmo que nunca da el crédito\n",
        "\n",
        " Calcula en otra gráfica la evolución de su reward promedio y regret promedio. ¿Tienen sentido los resultados?\n",
        "\n",
        "2- Entrena un multiarmed bandit **no contextual** en training. Calcula las mismas métricas que en el punto 1. ¿Cuál es la estrategia que aprende el modelo?\n",
        "\n",
        "3- Entrena un multiarmed bandit contextual lineal en training. Calcula las mismas métricas que en los puntos anteriores\n",
        "\n",
        "4- Calcula, para algunos clientes de training, las Q dadas por el modelo para cada acción. Chequea si obtienes los mismos valores calculándolos tú. Chequea si la acción elegida por el modelo es la de mayor Q.\n",
        "\n",
        "5- Calcula en test el rendimiento del algoritmo de multiarmed bandit. Compáralo con el grupo de control de test (reserva un 10% de clientes en test como grupo de control).\n",
        "\n",
        "6- Obtén la interpretabilidad del modelo. ¿En qué variables se está fijando para decidir?\n",
        "\n",
        "7- Qué ocurre en los puntos anteriores si ahora la penalización cuando el banco da un crédito a un cliente que no paga es -1? ¿Y si se va haciendo aún más pequeña la penalización?\n",
        "\n",
        "8- Optimiza tu sistema haciendo selección de variables.\n",
        "\n",
        "9- (Opcional). Investiga otras librerías que permitan implementar multiarmed bandits contextuales no lineales."
      ],
      "metadata": {
        "id": "7Yvdy7Z8Yhe5"
      }
    },
    {
      "cell_type": "markdown",
      "source": [
        "### Tarea 1"
      ],
      "metadata": {
        "id": "7tq-PdkFZzez"
      }
    },
    {
      "cell_type": "code",
      "source": [
        "from tqdm import tqdm\n",
        "import numpy as np\n",
        "import matplotlib.pyplot as plt"
      ],
      "metadata": {
        "id": "oy4bFAGal0Pd"
      },
      "execution_count": null,
      "outputs": []
    },
    {
      "cell_type": "code",
      "source": [
        "# a) algoritmo aleatorio \n",
        "N = 50000\n",
        "reward_total = 0\n",
        "regret_total = 0\n",
        "N_Credito = 0\n",
        "Credito = 0\n",
        "for _ in range(N):\n",
        "  c = cl_train.cliente()\n",
        "  accion = np.random.choice(2)\n",
        "  if accion == 1:\n",
        "    Credito += 1\n",
        "  else:\n",
        "    N_Credito += 1\n",
        "\n",
        "  reward = cl_train.get_reward(accion)\n",
        "  reward_total += reward\n",
        "  regret_total += (1 - reward)\n",
        "\n",
        "print(\"Reward promedio:\", reward_total/N)\n",
        "print(\"Regret promedio:\", regret_total/N)\n",
        "print(\"Cantidad de credito dados:\", Credito)\n",
        "print(\"Cantidad de credito no dados:\", N_Credito)"
      ],
      "metadata": {
        "colab": {
          "base_uri": "https://localhost:8080/"
        },
        "id": "xnZtmcxRscTQ",
        "outputId": "93b39cc7-2380-49f2-bfc5-d78437d6fb10"
      },
      "execution_count": null,
      "outputs": [
        {
          "output_type": "stream",
          "name": "stdout",
          "text": [
            "Reward promedio: 0.09492\n",
            "Regret promedio: 0.90508\n",
            "Cantidad de credito dados: 25030\n",
            "Cantidad de credito no dados: 24970\n"
          ]
        }
      ]
    },
    {
      "cell_type": "markdown",
      "source": [
        "El reward promedio teórico sería $\\frac{1}{2}(0 + 1\\cdot(1-0.073728) - 10\\cdot 0.073728) = 0.094496$."
      ],
      "metadata": {
        "id": "jnW8CzyS-7Pq"
      }
    },
    {
      "cell_type": "code",
      "source": [
        "# b) algoritmo que siempre da el crédito\n",
        "N = 50000\n",
        "reward_total = 0\n",
        "regret_total = 0\n",
        "for _ in range(N):\n",
        "  c = cl_train.cliente()\n",
        "  accion = 1\n",
        "  reward = cl_train.get_reward(accion)\n",
        "  reward_total += reward\n",
        "  regret_total += 0\n",
        "\n",
        "print(\"Reward promedio:\", reward_total/N)\n",
        "print(\"Regret promedio:\", regret_total/N)"
      ],
      "metadata": {
        "colab": {
          "base_uri": "https://localhost:8080/"
        },
        "id": "PIS07VL3ozSA",
        "outputId": "9f754c8c-c273-4524-c1c2-c63f93ae5da8"
      },
      "execution_count": null,
      "outputs": [
        {
          "output_type": "stream",
          "name": "stdout",
          "text": [
            "Reward promedio: 0.20228\n",
            "Regret promedio: 0.0\n"
          ]
        }
      ]
    },
    {
      "cell_type": "markdown",
      "source": [
        "El reward promedio teórico sería $1\\cdot(1-0.073728) - 10\\cdot 0.073728 = 0.188992$."
      ],
      "metadata": {
        "id": "vuW2BiWo_bJC"
      }
    },
    {
      "cell_type": "code",
      "source": [
        "# c) algoritmo que nunca da el crédito\n",
        "N = 50000\n",
        "reward_total = 0\n",
        "regret_total = 0\n",
        "for _ in range(N):\n",
        "  c = cl_train.cliente()\n",
        "  accion = 0\n",
        "  reward = cl_train.get_reward(accion)\n",
        "  reward_total += reward\n",
        "  regret_total += (1 - reward)\n",
        "\n",
        "print(\"Reward promedio:\", reward_total/N)\n",
        "print(\"Regret promedio:\", regret_total/N)"
      ],
      "metadata": {
        "colab": {
          "base_uri": "https://localhost:8080/"
        },
        "id": "h7fmKDOqpBrZ",
        "outputId": "d0e456b8-863e-4b38-f2e6-51d495a055be"
      },
      "execution_count": null,
      "outputs": [
        {
          "output_type": "stream",
          "name": "stdout",
          "text": [
            "Reward promedio: 0.0\n",
            "Regret promedio: 1.0\n"
          ]
        }
      ]
    },
    {
      "cell_type": "code",
      "source": [
        "N = 50000\n",
        "n_acciones_posibles = 2\n",
        "\n",
        "reward_total = 0\n",
        "reward_promedio = []\n",
        "regret_total = 0\n",
        "regret_promedio = []\n",
        "\n",
        "N_Credito = 0\n",
        "Credito = 0\n",
        "\n",
        "for i in tqdm(range(N)):\n",
        "  c = cl_train.cliente()\n",
        "  accion = np.random.randint(0,n_acciones_posibles)\n",
        "  if accion == 1:\n",
        "    Credito += 1\n",
        "  else:\n",
        "    N_Credito += 1\n",
        "  reward = cl_train.get_reward(accion)\n",
        "  reward_total += reward\n",
        "  reward_promedio.append(reward_total/(i+1))\n",
        "  regret = (1 - reward)\n",
        "  regret_total += regret\n",
        "  regret_promedio.append(regret_total/(i+1))\n",
        "\n",
        "print(\"Cantidad de credito dados:\", Credito)\n",
        "print(\"Cantidad de credito no dados:\", N_Credito)\n",
        "print(\"Reward promedio:\", reward_total/N)\n",
        "plt.plot(reward_promedio)\n",
        "plt.title(\"Evolución del reward promedio\")\n",
        "plt.show()\n",
        "print(\"Regret promedio:\", regret_total/N)\n",
        "plt.plot(regret_promedio)\n",
        "plt.title(\"Evolución del regret promedio\")\n",
        "plt.show()"
      ],
      "metadata": {
        "colab": {
          "base_uri": "https://localhost:8080/",
          "height": 976
        },
        "id": "YpeBdj3nyHce",
        "outputId": "6802863d-7259-4db6-93cb-7da396c8dd33"
      },
      "execution_count": null,
      "outputs": [
        {
          "output_type": "stream",
          "name": "stderr",
          "text": [
            "100%|██████████| 50000/50000 [00:03<00:00, 14142.65it/s]\n"
          ]
        },
        {
          "output_type": "stream",
          "name": "stdout",
          "text": [
            "Cantidad de credito dados: 25009\n",
            "Cantidad de credito no dados: 24991\n",
            "Reward promedio: 0.09912\n"
          ]
        },
        {
          "output_type": "display_data",
          "data": {
            "text/plain": [
              "<Figure size 640x480 with 1 Axes>"
            ],
            "image/png": "[encoded data removed]"
          },
          "metadata": {}
        },
        {
          "output_type": "stream",
          "name": "stdout",
          "text": [
            "Regret promedio: 0.90088\n"
          ]
        },
        {
          "output_type": "display_data",
          "data": {
            "text/plain": [
              "<Figure size 640x480 with 1 Axes>"
            ],
            "image/png": "[encoded data removed]"
          },
          "metadata": {}
        }
      ]
    },
    {
      "cell_type": "markdown",
      "source": [
        "**Respuesta:** \n",
        "\n",
        "En los valores obtenidos, podemos ver que el algoritmo *si otorga crédito* casi en las mismas proporciones que cuando *no otorga crédito*, esto se debe a que la acción se escoge de manera aleatoria entre los valores 0 y 1. En la gráfica de *Rewards promedio* podemos observar que al aumentar los episodios (N) el promedio se vuelve constante y de un valor cercano a  0, esto es debido a que como en la opción de *si otorgar crédito* tiene dos posibles rewards dado, el caso de pago o no pago, pero en medidas distintas, ya que el no pago castiga con un reward de -10. \n",
        "\n",
        "**Nota:** \n",
        "\n",
        "Cálculo de Regret: En la práctica no podemos saber el valor óptimo de la acción, ya que no tenemos como cuantificar dicha ganancia, por lo que en este trabajo supondremos que el argumento máximo de las Q será cuando la acción es 1, que es cuando se otorga el crédito y el cliente paga. "
      ],
      "metadata": {
        "id": "dq0Qs1uPQ63d"
      }
    },
    {
      "cell_type": "markdown",
      "source": [
        "### Tarea 2"
      ],
      "metadata": {
        "id": "31OuG16DGoxJ"
      }
    },
    {
      "cell_type": "code",
      "source": [
        "class MultiArmedBandit:\n",
        "    def __init__(self, epsilon, num_actions):\n",
        "        self.epsilon = epsilon\n",
        "        self.num_actions = num_actions\n",
        "        self.action_counts = np.zeros(num_actions)\n",
        "        self.action_rewards = np.zeros(num_actions)\n",
        "        self.Qs = np.zeros(num_actions) - 10\n",
        "\n",
        "    def choose_action(self):\n",
        "        if np.random.rand() < self.epsilon: # exploramos?\n",
        "          return np.random.choice(self.num_actions)\n",
        "        return np.argmax(self.Qs)\n",
        "\n",
        "    def update(self, action, reward):\n",
        "        self.action_counts[action] += 1\n",
        "        self.action_rewards[action] += reward\n",
        "        self.Qs[action] = self.action_rewards[action] / self.action_counts[action] # recalculamos la Q"
      ],
      "metadata": {
        "id": "NiVOOipDGo98"
      },
      "execution_count": null,
      "outputs": []
    },
    {
      "cell_type": "code",
      "source": [
        "def train_bandit(bandit, df, sel_clientes):\n",
        "    rewards = 0\n",
        "    total_rewards = []\n",
        "    rewards_promedio = []\n",
        "    regret_total = 0\n",
        "    regret_promedio = []\n",
        "    historico_acciones   = []\n",
        "    Q_cliente = []\n",
        "    nombre = []\n",
        "\n",
        "    client = clientes(df)\n",
        "    \n",
        "    for _ in tqdm(range(len(df))):\n",
        "        action = bandit.choose_action()\n",
        "        reward = client.get_reward(action)\n",
        "        bandit.update(action, reward)\n",
        "        rewards += reward\n",
        "        nombre.append(client.get_context().name)\n",
        "        total_rewards.append(rewards)\n",
        "        rewards_promedio.append(rewards/(_+1))\n",
        "        regret = (1 - reward)\n",
        "        regret_total += regret\n",
        "        regret_promedio.append(regret_total/(_+1))\n",
        "        historico_acciones.append(action)\n",
        "        Q_cliente.append(bandit.Qs)\n",
        "        client.cliente()\n",
        "       \n",
        "    print(\"Reward promedio:\", rewards/len(df))\n",
        "    print(\"Regret promedio:\", regret_total/len(df))\n",
        "\n",
        "    plt.plot(total_rewards)\n",
        "    plt.title(\"Refuerzo total acumulado\")\n",
        "    plt.show()\n",
        "    plt.plot(rewards_promedio)\n",
        "    plt.title(\"Refuerzo promedio\")\n",
        "    plt.show()\n",
        "    plt.plot(regret_promedio)\n",
        "    plt.title(\"Regret promedio\")\n",
        "    plt.show()\n",
        "\n",
        "    return nombre, total_rewards, Q_cliente, rewards_promedio, regret_promedio, historico_acciones"
      ],
      "metadata": {
        "id": "-VOImQTS_pYW"
      },
      "execution_count": null,
      "outputs": []
    },
    {
      "cell_type": "code",
      "source": [
        "bandit = MultiArmedBandit(0.1, num_actions=2)  # Dos acciones: no se da crédito (0) o se da crédito (1)\n",
        "\n",
        "nom, rewards, Q_cliente, historico_r_promedio, historico_regret, historico_acciones = train_bandit(bandit, df_train, [6, 7, 8])\n"
      ],
      "metadata": {
        "colab": {
          "base_uri": "https://localhost:8080/",
          "height": 1000
        },
        "id": "3BiExOyzFbuR",
        "outputId": "4bcc4109-fb0e-4813-a406-e188e50410a3"
      },
      "execution_count": null,
      "outputs": [
        {
          "output_type": "stream",
          "name": "stderr",
          "text": [
            "100%|██████████| 75518/75518 [01:05<00:00, 1161.64it/s]\n"
          ]
        },
        {
          "output_type": "stream",
          "name": "stdout",
          "text": [
            "Reward promedio: 0.18294976032204244\n",
            "Regret promedio: 0.8170502396779575\n"
          ]
        },
        {
          "output_type": "display_data",
          "data": {
            "text/plain": [
              "<Figure size 640x480 with 1 Axes>"
            ],
            "image/png": "[encoded data removed]"
          },
          "metadata": {}
        },
        {
          "output_type": "display_data",
          "data": {
            "text/plain": [
              "<Figure size 640x480 with 1 Axes>"
            ],
            "image/png": "[encoded data removed]"
          },
          "metadata": {}
        },
        {
          "output_type": "display_data",
          "data": {
            "text/plain": [
              "<Figure size 640x480 with 1 Axes>"
            ],
            "image/png": "[encoded data removed]"
          },
          "metadata": {}
        }
      ]
    },
    {
      "cell_type": "code",
      "source": [
        "import collections\n",
        "c = collections.Counter(historico_acciones)\n",
        "\n",
        "print(c.items())"
      ],
      "metadata": {
        "colab": {
          "base_uri": "https://localhost:8080/"
        },
        "id": "akex6x35muep",
        "outputId": "f563cee2-2f4c-40d6-da81-d6998f483aa7"
      },
      "execution_count": null,
      "outputs": [
        {
          "output_type": "stream",
          "name": "stdout",
          "text": [
            "dict_items([(0, 3842), (1, 71676)])\n"
          ]
        }
      ]
    },
    {
      "cell_type": "code",
      "source": [
        "# Porcentaje de veces que no otorga crédito\n",
        "3842/(71676+3842)"
      ],
      "metadata": {
        "colab": {
          "base_uri": "https://localhost:8080/"
        },
        "id": "7wbzIUwMn-O5",
        "outputId": "0756574a-0888-4758-86d3-7c29df58e91d"
      },
      "execution_count": null,
      "outputs": [
        {
          "output_type": "execute_result",
          "data": {
            "text/plain": [
              "0.05087528801080537"
            ]
          },
          "metadata": {},
          "execution_count": 110
        }
      ]
    },
    {
      "cell_type": "markdown",
      "source": [
        "**Respuesta:** \n",
        "\n",
        "Se puede observar en la grafica de *Refuerzo total acumulado* que el crecimiento es casi lineal, por lo que se puede deducir que el modelo otorga el crédito la mayoría de las veces. Hemos comprobado esto con el histórico de acciones, donde se observa que el porcentaje de veces que *no otorga crédito* es estrictamente menor que de las personas que incurren en impago, por lo que el banco pierde dinero con este modelo. "
      ],
      "metadata": {
        "id": "0CTrJV9ZkrcO"
      }
    },
    {
      "cell_type": "markdown",
      "source": [
        "### Tarea 3"
      ],
      "metadata": {
        "id": "Pq2MI1LAYQzM"
      }
    },
    {
      "cell_type": "code",
      "source": [
        "if COLAB:\n",
        "    from google_drive_downloader import GoogleDriveDownloader as gdd\n",
        "\n",
        "    gdd.download_file_from_google_drive(file_id='1fCnGzS5U_x-k_03op_XJkHVS4jpvjSxS',\n",
        "                                        dest_path='./spacebandits.zip', unzip=True)"
      ],
      "metadata": {
        "id": "TsOXWq9icpgT",
        "colab": {
          "base_uri": "https://localhost:8080/"
        },
        "outputId": "a14f60c6-2353-4bfb-87d8-43c3db405999"
      },
      "execution_count": null,
      "outputs": [
        {
          "output_type": "stream",
          "name": "stdout",
          "text": [
            "Downloading 1fCnGzS5U_x-k_03op_XJkHVS4jpvjSxS into ./spacebandits.zip... Done.\n",
            "Unzipping...Done.\n"
          ]
        }
      ]
    },
    {
      "cell_type": "code",
      "source": [
        "from space_bandits import LinearBandits"
      ],
      "metadata": {
        "id": "aUgWgq9egge-",
        "colab": {
          "base_uri": "https://localhost:8080/"
        },
        "outputId": "aada09fd-d8ca-4cc9-f30a-e43a8fd35fdf"
      },
      "execution_count": null,
      "outputs": [
        {
          "output_type": "stream",
          "name": "stderr",
          "text": [
            "WARNING:tensorflow:From /usr/local/lib/python3.10/dist-packages/tensorflow/python/compat/v2_compat.py:107: disable_resource_variables (from tensorflow.python.ops.variable_scope) is deprecated and will be removed in a future version.\n",
            "Instructions for updating:\n",
            "non-resource variables are not supported in the long term\n"
          ]
        }
      ]
    },
    {
      "cell_type": "code",
      "source": [
        "client = clientes(df_train)\n",
        "n_acciones = 2 \n",
        "n_features = len(client.get_context())\n",
        "\n",
        "agente = LinearBandits(n_acciones, n_features, initial_pulls=100) # initial_pulls: duración de la fase de exploración pura\n",
        "reward_promedio = []\n",
        "reward_total = 0\n",
        "regret_promedio = []\n",
        "regret_total = 0\n",
        "N = len(df_train)\n",
        "\n",
        "for i in tqdm(range(N)):\n",
        "  contexto = client.get_context().values\n",
        "  accion = agente.action(contexto) # choose_action\n",
        "  reward = client.get_reward(accion)\n",
        "  agente.update(contexto, accion, reward) # actualización del modelo\n",
        "\n",
        "  reward_total += reward\n",
        "  reward_promedio.append(reward_total/(i+1)) # i+1 es el número de iteraciones\n",
        "  regret = 1 - reward\n",
        "  regret_total += regret \n",
        "  regret_promedio.append(regret_total/(i+1))\n",
        "  client.cliente() # cliente con el que contacto\n",
        "\n",
        "print(\"Reward promedio:\", reward_total/N)\n",
        "plt.plot(reward_promedio)\n",
        "plt.title(\"Evolución del reward promedio\")\n",
        "plt.show()\n",
        "print(\"Regret promedio:\", regret_total/N)\n",
        "plt.plot(regret_promedio)\n",
        "plt.title(\"Evolución del regret promedio\")\n",
        "plt.show()"
      ],
      "metadata": {
        "colab": {
          "base_uri": "https://localhost:8080/",
          "height": 941
        },
        "id": "TDOXage9Geic",
        "outputId": "c34ef2cb-c611-4893-c024-84234b2a8026"
      },
      "execution_count": null,
      "outputs": [
        {
          "output_type": "stream",
          "name": "stderr",
          "text": [
            "100%|██████████| 75518/75518 [41:31<00:00, 30.31it/s]\n"
          ]
        },
        {
          "output_type": "stream",
          "name": "stdout",
          "text": [
            "Reward promedio: 0.5294102068381048\n"
          ]
        },
        {
          "output_type": "display_data",
          "data": {
            "text/plain": [
              "<Figure size 640x480 with 1 Axes>"
            ],
            "image/png": "[encoded data removed]"
          },
          "metadata": {}
        },
        {
          "output_type": "stream",
          "name": "stdout",
          "text": [
            "Regret promedio: 0.4705897931618952\n"
          ]
        },
        {
          "output_type": "display_data",
          "data": {
            "text/plain": [
              "<Figure size 640x480 with 1 Axes>"
            ],
            "image/png": "[encoded data removed]"
          },
          "metadata": {}
        }
      ]
    },
    {
      "cell_type": "code",
      "source": [
        "from space_bandits import load_linear_model\n",
        "agente.save('model_LinearBandits.pkl')\n",
        "agente = load_linear_model('model_LinearBandits.pkl')"
      ],
      "metadata": {
        "id": "UJv7MtEr5xyi"
      },
      "execution_count": null,
      "outputs": []
    },
    {
      "cell_type": "markdown",
      "source": [
        "**Nota:** \n",
        "\n",
        "Cálculo de Regret: En la práctica no podemos saber el valor óptimo de la acción, ya que no tenemos como cuantificar dicha ganancia, por lo que en este trabajo supondremos que el argumento máximo de las Q será cuando la acción es 1, que es cuando se otorga el crédito y el cliente paga, por tanto lo que obtenemos es una cota."
      ],
      "metadata": {
        "id": "Us-1FWsGL7LQ"
      }
    },
    {
      "cell_type": "markdown",
      "source": [
        "### Tarea 4"
      ],
      "metadata": {
        "id": "BnR8yJ-QYR-a"
      }
    },
    {
      "cell_type": "code",
      "source": [
        "auxs = []\n",
        "for a in range(n_acciones):\n",
        "    aux = \"Q_estimada(acción={}) = {:.2f}{}{:.2f}·RevolvingUtilizationOfUnsecuredLines{}{:.2f}·age{}{:.2f}·NumberOfTime30-59DaysPastDueNotWorse{}{:.2f}·DebtRatio{}{:.2f}·MonthlyIncome{}{:.2f}·NumberOfOpenCreditLinesAndLoans{}{:.2f}·NumberOfTimes90DaysLate{}{:.2f}·NumberRealEstateLoansOrLines{}{:.2f}·NumberOfTime60-89DaysPastDueNotWorse{}{:.2f}·NumberOfDependents\"\n",
        "    pars = agente.mu[a]\n",
        "    mas0 = ' + ' if pars[0]>=0 else ' '\n",
        "    mas1 = ' + ' if pars[1]>=0 else ' '\n",
        "    mas2 = ' + ' if pars[0]>=0 else ' '\n",
        "    mas3 = ' + ' if pars[1]>=0 else ' '\n",
        "    mas4 = ' + ' if pars[0]>=0 else ' '\n",
        "    mas5 = ' + ' if pars[1]>=0 else ' '\n",
        "    mas6 = ' + ' if pars[0]>=0 else ' '\n",
        "    mas7 = ' + ' if pars[1]>=0 else ' '\n",
        "    mas8 = ' + ' if pars[0]>=0 else ' '\n",
        "    mas9 = ' + ' if pars[1]>=0 else ' '\n",
        "\n",
        "    aux2 = aux.format(a,\n",
        "                      agente.mu[a][-1], mas0,\n",
        "                      agente.mu[a][0], mas1,\n",
        "                      agente.mu[a][1], mas2,\n",
        "                      agente.mu[a][2], mas3,\n",
        "                      agente.mu[a][3], mas4,\n",
        "                      agente.mu[a][4], mas5,\n",
        "                      agente.mu[a][5], mas6,\n",
        "                      agente.mu[a][6], mas7,\n",
        "                      agente.mu[a][7], mas8,\n",
        "                      agente.mu[a][8], mas9,\n",
        "                      agente.mu[a][9]) \n",
        "    print(aux2)\n",
        "    aux2 = aux2.replace(\"RevolvingUtilizationOfUnsecuredLines\",\"{:.2f}\")\n",
        "    aux2 = aux2.replace(\"age\",\"{:.2f}\")\n",
        "    aux2 = aux2.replace(\"NumberOfTime30-59DaysPastDueNotWorse\",\"{:.2f}\")\n",
        "    aux2 = aux2.replace(\"DebtRatio\",\"{:.2f}\")\n",
        "    aux2 = aux2.replace(\"MonthlyIncome\",\"{:.2f}\")\n",
        "    aux2 = aux2.replace(\"NumberOfOpenCreditLinesAndLoans\",\"{:.2f}\")\n",
        "    aux2 = aux2.replace(\"NumberOfTimes90DaysLate\",\"{:.2f}\")\n",
        "    aux2 = aux2.replace(\"NumberRealEstateLoansOrLines\",\"{:.2f}\")\n",
        "    aux2 = aux2.replace(\"NumberOfTime60-89DaysPastDueNotWorse\",\"{:.2f}\")\n",
        "    aux2 = aux2.replace(\"NumberOfDependents\",\"{:.2f}\")\n",
        "    auxs.append(aux2)"
      ],
      "metadata": {
        "id": "-bdCigaMcKi6",
        "colab": {
          "base_uri": "https://localhost:8080/"
        },
        "outputId": "0c4f23ea-fdb1-4389-ecdd-4a8a9f9be11a"
      },
      "execution_count": null,
      "outputs": [
        {
          "output_type": "stream",
          "name": "stdout",
          "text": [
            "Q_estimada(acción=0) = 0.00 + 0.00·RevolvingUtilizationOfUnsecuredLines + 0.00·age + 0.00·NumberOfTime30-59DaysPastDueNotWorse + 0.00·DebtRatio + 0.00·MonthlyIncome + 0.00·NumberOfOpenCreditLinesAndLoans + 0.00·NumberOfTimes90DaysLate + 0.00·NumberRealEstateLoansOrLines + 0.00·NumberOfTime60-89DaysPastDueNotWorse + 0.00·NumberOfDependents\n",
            "Q_estimada(acción=1) = 0.72 -0.86·RevolvingUtilizationOfUnsecuredLines + 0.01·age -0.37·NumberOfTime30-59DaysPastDueNotWorse + 0.00·DebtRatio 0.00·MonthlyIncome + -0.01·NumberOfOpenCreditLinesAndLoans -3.98·NumberOfTimes90DaysLate + -0.04·NumberRealEstateLoansOrLines -1.26·NumberOfTime60-89DaysPastDueNotWorse + 0.00·NumberOfDependents\n"
          ]
        }
      ]
    },
    {
      "cell_type": "code",
      "source": [
        "def selec_client(n):\n",
        "  c = clientes(df_train)\n",
        "  for i in range(n):\n",
        "    c.cliente()\n",
        "  return c"
      ],
      "metadata": {
        "id": "Z3mG5LEXbHAO"
      },
      "execution_count": null,
      "outputs": []
    },
    {
      "cell_type": "code",
      "source": [
        "def comparacion(cliente):\n",
        "\n",
        "  contexto = cliente.get_context()\n",
        "  print(\"\\033[1m\\033[94mCliente:\\033[0m\", cliente.get_context().name)\n",
        "  aux = \"Contexto cliente (RevolvingUtilizationOfUnsecuredLines, age, NumberOfTime30-59DaysPastDueNotWorse, DebtRatio, MonthlyIncome, NumberOfOpenCreditLinesAndLoans, NumberOfTimes90DaysLate, NumberRealEstateLoansOrLines, NumberOfTime60-89DaysPastDueNotWorse, NumberOfDependents) = ({:.2f},{:.2f},{:.2f},{:.2f},{:.2f},{:.2f},{:.2f},{:.2f},{:.2f},{:.2f})\\n\"\n",
        "  print(aux.format(contexto[0], contexto[1], contexto[2], contexto[3], contexto[4], contexto[5], contexto[6], contexto[7], contexto[8], contexto[9]))\n",
        "  print(\"Qs estimadas por el modelo (método expected values):\")\n",
        "  Qs = agente.expected_values(contexto)\n",
        "  for a in range(n_acciones):\n",
        "      print(\"  * Q_estimada(acción={}) = {}\".format(a,Qs[a].round(3)))\n",
        "  print()\n",
        "  key1, key2, key3, key4, key5, key6, key7, key8, key9, key10 = contexto\n",
        "  print(\"Qs estimadas a mano con los coeficientes del modelo:\")\n",
        "  alphas = agente.mu\n",
        "  for a in range(n_acciones):\n",
        "      Q = alphas[a][-1] + alphas[a][0]*key1 + alphas[a][1]*key2 + alphas[a][\n",
        "          2]*key3 + alphas[a][3]*key4 + alphas[a][4]*key5 + alphas[a][\n",
        "              5]*key6 + alphas[a][6]*key7 + alphas[a][7]*key8 + alphas[a][\n",
        "                  8]*key9 + alphas[a][9]*key10\n",
        "      print(\"  * \"+auxs[a].format(key1, key2, key3, key4, key5, key6, key7,\n",
        "                                  key8, key9, key10)+\" = \"+str(Q.round(3)))\n",
        "\n",
        "  print()\n",
        "  print(\"Acción elegida por el modelo:\", agente.predict(contexto, thompson=False))\n",
        "  print()\n",
        "  print()\n"
      ],
      "metadata": {
        "id": "erlqvuzQYT32"
      },
      "execution_count": null,
      "outputs": []
    },
    {
      "cell_type": "code",
      "source": [
        "lista_clientes = [18, 100, 40674]\n",
        "for c in lista_clientes:\n",
        "  cliente = selec_client(c)\n",
        "  comparacion(cliente)"
      ],
      "metadata": {
        "id": "bo-XC_ZbYT6Q",
        "colab": {
          "base_uri": "https://localhost:8080/"
        },
        "outputId": "9e5a025d-1935-46bd-cd13-8ec749175de0"
      },
      "execution_count": null,
      "outputs": [
        {
          "output_type": "stream",
          "name": "stdout",
          "text": [
            "\u001b[1m\u001b[94mCliente:\u001b[0m 147429\n",
            "Contexto cliente (RevolvingUtilizationOfUnsecuredLines, age, NumberOfTime30-59DaysPastDueNotWorse, DebtRatio, MonthlyIncome, NumberOfOpenCreditLinesAndLoans, NumberOfTimes90DaysLate, NumberRealEstateLoansOrLines, NumberOfTime60-89DaysPastDueNotWorse, NumberOfDependents) = (0.45,56.00,0.00,0.44,7200.00,15.00,0.00,2.00,0.00,2.00)\n",
            "\n",
            "Qs estimadas por el modelo (método expected values):\n",
            "  * Q_estimada(acción=0) = 0.0\n",
            "  * Q_estimada(acción=1) = 0.454\n",
            "\n",
            "Qs estimadas a mano con los coeficientes del modelo:\n",
            "  * Q_estimada(acción=0) = 0.00 + 0.00·0.45 + 0.00·56.00 + 0.00·0.00 + 0.00·0.44 + 0.00·7200.00 + 0.00·15.00 + 0.00·0.00 + 0.00·2.00 + 0.00·0.00 + 0.00·2.00 = 0.0\n",
            "  * Q_estimada(acción=1) = 0.72 -0.86·0.45 + 0.01·56.00 -0.37·0.00 + 0.00·0.44 0.00·7200.00 + -0.01·15.00 -3.98·0.00 + -0.04·2.00 -1.26·0.00 + 0.00·2.00 = 0.454\n",
            "\n",
            "Acción elegida por el modelo: 1\n",
            "\n",
            "\n",
            "\u001b[1m\u001b[94mCliente:\u001b[0m 53562\n",
            "Contexto cliente (RevolvingUtilizationOfUnsecuredLines, age, NumberOfTime30-59DaysPastDueNotWorse, DebtRatio, MonthlyIncome, NumberOfOpenCreditLinesAndLoans, NumberOfTimes90DaysLate, NumberRealEstateLoansOrLines, NumberOfTime60-89DaysPastDueNotWorse, NumberOfDependents) = (0.69,50.00,0.00,0.66,5700.00,19.00,0.00,2.00,0.00,0.00)\n",
            "\n",
            "Qs estimadas por el modelo (método expected values):\n",
            "  * Q_estimada(acción=0) = 0.0\n",
            "  * Q_estimada(acción=1) = 0.15\n",
            "\n",
            "Qs estimadas a mano con los coeficientes del modelo:\n",
            "  * Q_estimada(acción=0) = 0.00 + 0.00·0.69 + 0.00·50.00 + 0.00·0.00 + 0.00·0.66 + 0.00·5700.00 + 0.00·19.00 + 0.00·0.00 + 0.00·2.00 + 0.00·0.00 + 0.00·0.00 = 0.0\n",
            "  * Q_estimada(acción=1) = 0.72 -0.86·0.69 + 0.01·50.00 -0.37·0.00 + 0.00·0.66 0.00·5700.00 + -0.01·19.00 -3.98·0.00 + -0.04·2.00 -1.26·0.00 + 0.00·0.00 = 0.15\n",
            "\n",
            "Acción elegida por el modelo: 1\n",
            "\n",
            "\n",
            "\u001b[1m\u001b[94mCliente:\u001b[0m 104049\n",
            "Contexto cliente (RevolvingUtilizationOfUnsecuredLines, age, NumberOfTime30-59DaysPastDueNotWorse, DebtRatio, MonthlyIncome, NumberOfOpenCreditLinesAndLoans, NumberOfTimes90DaysLate, NumberRealEstateLoansOrLines, NumberOfTime60-89DaysPastDueNotWorse, NumberOfDependents) = (0.07,62.00,0.00,0.34,8518.00,13.00,0.00,2.00,0.00,0.00)\n",
            "\n",
            "Qs estimadas por el modelo (método expected values):\n",
            "  * Q_estimada(acción=0) = 0.0\n",
            "  * Q_estimada(acción=1) = 0.849\n",
            "\n",
            "Qs estimadas a mano con los coeficientes del modelo:\n",
            "  * Q_estimada(acción=0) = 0.00 + 0.00·0.07 + 0.00·62.00 + 0.00·0.00 + 0.00·0.34 + 0.00·8518.00 + 0.00·13.00 + 0.00·0.00 + 0.00·2.00 + 0.00·0.00 + 0.00·0.00 = 0.0\n",
            "  * Q_estimada(acción=1) = 0.72 -0.86·0.07 + 0.01·62.00 -0.37·0.00 + 0.00·0.34 0.00·8518.00 + -0.01·13.00 -3.98·0.00 + -0.04·2.00 -1.26·0.00 + 0.00·0.00 = 0.849\n",
            "\n",
            "Acción elegida por el modelo: 1\n",
            "\n",
            "\n"
          ]
        }
      ]
    },
    {
      "cell_type": "markdown",
      "source": [
        "**Respuesta:**\n",
        "\n",
        "En el Multiarmed Bandit contextual lineal se aproxima Q por una función lineal\n",
        "\n",
        "\\begin{equation}\n",
        "Q_\\theta(s,a) = \\phi(s,a)^T\\theta\\approx Q(s,a),\n",
        "\\end{equation}\n",
        "\n",
        "donde los parámetros $\\theta$ de cada bandit se estiman mediante regresión por\n",
        "mínimos cuadrados\n",
        "\n",
        "\\begin{equation}\n",
        "\\theta_t = A_t^{-1}b_t,\n",
        "\\end{equation}\n",
        "\n",
        "donde\n",
        "\n",
        "\\begin{equation}\n",
        "A_t = \\sum_{\\tau=1}^t\\phi(s_\\tau,a_\\tau)\\phi(s_\\tau,a_\\tau)^T \\quad \\text{y} \\quad b_t=\\sum_{\\tau=1}^t\\phi(s_\\tau,a_\\tau)r_\\tau.\n",
        "\\end{equation}\n",
        "\n",
        "Para la acción de \"no dar crédito\", el refuerzo asociado es $0$, por lo que $b_t=0$ y, por tanto, $\\theta=0$, como se puede ver dos celdas más arriba.\n",
        "\n",
        "En la celda siguiente, hemos calculado para tres clientes y para cada acción la $Q$ dada por el modelo lineal según\n",
        "\n",
        " \\begin{equation}\n",
        "Q_\\theta(s,a) = \\phi(s,a)^T\\theta\n",
        "\\end{equation}\n",
        "\n",
        "y también la que calcula el modelo entrenaddo, viendo que efectivamente coinciden y que se toma en todos los ejemplos la acción con mayor $Q$."
      ],
      "metadata": {
        "id": "qf5kqPkcxVfg"
      }
    },
    {
      "cell_type": "markdown",
      "source": [
        "### Tarea 5"
      ],
      "metadata": {
        "id": "SeupGxVjYUDC"
      }
    },
    {
      "cell_type": "code",
      "source": [
        "agente = load_linear_model('model_LinearBandits.pkl')"
      ],
      "metadata": {
        "id": "sMAZMu7DACNN"
      },
      "execution_count": null,
      "outputs": []
    },
    {
      "cell_type": "code",
      "source": [
        "# Test\n",
        "reward_total_test = 0\n",
        "regret_total_test = 0\n",
        "num_clientes_control = int(0.1 * len(df_test))\n",
        "df_control = df_test.sample(n=num_clientes_control, random_state=42)\n",
        "\n",
        "for _, row in tqdm(df_test.iterrows()):\n",
        "    contexto = row.drop(\"SeriousDlqin2yrs\").values\n",
        "    accion = agente.action(contexto)\n",
        "    reward = client.get_reward(accion)\n",
        "    reward_total_test += reward\n",
        "    regret = 1 - reward\n",
        "    regret_total_test += regret\n",
        "\n",
        "# Rendimiento promedio en test y control\n",
        "reward_promedio_test = reward_total_test / len(df_test)\n",
        "regret_promedio_test = regret_total_test / len(df_test)\n",
        "reward_promedio_control = df_control[\"SeriousDlqin2yrs\"].mean()\n",
        "regret_promedio_control = 1 - reward_promedio_control\n",
        "\n",
        "print(\"Rendimiento Test:\")\n",
        "print(\"Reward promedio:\", reward_promedio_test)\n",
        "print(\"Regret promedio:\", regret_promedio_test)\n",
        "\n",
        "print(\"Rendimiento del grupo de control:\")\n",
        "print(\"Reward promedio:\", reward_promedio_control)\n",
        "print(\"Regret promedio:\", regret_promedio_control)"
      ],
      "metadata": {
        "colab": {
          "base_uri": "https://localhost:8080/"
        },
        "id": "YgbT2vkeDpyR",
        "outputId": "d91b025e-aa87-4ebe-e61b-f55f5d8f68d1"
      },
      "execution_count": null,
      "outputs": [
        {
          "output_type": "stream",
          "name": "stderr",
          "text": [
            "29129it [00:46, 632.23it/s]"
          ]
        },
        {
          "output_type": "stream",
          "name": "stdout",
          "text": [
            "Rendimiento Test:\n",
            "Reward promedio: 0.8239211782072848\n",
            "Regret promedio: 0.17607882179271517\n",
            "Rendimiento del grupo de control:\n",
            "Reward promedio: 0.0673076923076923\n",
            "Regret promedio: 0.9326923076923077\n"
          ]
        },
        {
          "output_type": "stream",
          "name": "stderr",
          "text": [
            "\n"
          ]
        }
      ]
    },
    {
      "cell_type": "markdown",
      "source": [
        "**Respuesta:**\n",
        "\n",
        "Efectivamente comprobamos que el reward es mucho mayor cuando tenemos el contexto. El modelo es capaz de predecir, en base al resto de variables, si un cliente tiene tendencia o no a devolver el crédito, y con ellos afina mucho mejor sus acciones y por tanto el reward. "
      ],
      "metadata": {
        "id": "aM9ACJ5wFt1O"
      }
    },
    {
      "cell_type": "markdown",
      "source": [
        "### Tarea 6"
      ],
      "metadata": {
        "id": "CXVUw_H6YWJI"
      }
    },
    {
      "cell_type": "markdown",
      "source": [
        "Observando los resultados obtenidos en la **respuesta 4**, podemos ver que cuando la acción es 1, las características del cliente con la mayor importancia son *RevolvingUtilizationOfUnsecuredLines*, *NumberOfTime30-59DaysPastDueNotWorse*, *NumberOfTimes90DaysLate*, *NumberOfTime60-89DaysPastDueNotWorse*. \n",
        "\n",
        "Otra manera de poder observar cómo funciona el modelo internamente es a través de un árbol de decisiones, el cual enseñaremos a continuación. "
      ],
      "metadata": {
        "id": "JtblThs3wBaO"
      }
    },
    {
      "cell_type": "code",
      "source": [
        "if COLAB:\n",
        "    from google_drive_downloader import GoogleDriveDownloader as gdd\n",
        "    gdd.download_file_from_google_drive(file_id='1uvqBzz-WnK5MWezXiO9htr54DWSxHWsL',\n",
        "                                        dest_path=\"./libreria_aux_arboles.py.txt\")\n",
        "    !mv ./libreria_aux_arboles.py.txt ./libreria_aux_arboles.py\n",
        "    gdd.download_file_from_google_drive(file_id='1u7-C8oy2NbzDtKVP3quUlXB7LLSkHc_d',\n",
        "                                        dest_path=\"./my_library.py.txt\")\n",
        "    !mv ./my_library.py.txt ./my_library.py"
      ],
      "metadata": {
        "colab": {
          "base_uri": "https://localhost:8080/"
        },
        "id": "4cxVf7Mr4a-q",
        "outputId": "efc52e29-f9e6-4e65-c95a-5e0921a20e41"
      },
      "execution_count": null,
      "outputs": [
        {
          "output_type": "stream",
          "name": "stdout",
          "text": [
            "Downloading 1uvqBzz-WnK5MWezXiO9htr54DWSxHWsL into ./libreria_aux_arboles.py.txt... Done.\n",
            "Downloading 1u7-C8oy2NbzDtKVP3quUlXB7LLSkHc_d into ./my_library.py.txt... Done.\n"
          ]
        }
      ]
    },
    {
      "cell_type": "code",
      "source": [
        "df_train_copy = df_train.copy()"
      ],
      "metadata": {
        "id": "e8FIBiIY5Pdd"
      },
      "execution_count": null,
      "outputs": []
    },
    {
      "cell_type": "code",
      "source": [
        "contextos = df_train_copy.drop([\"SeriousDlqin2yrs\"], axis=1)"
      ],
      "metadata": {
        "id": "IsActQsF-cYe"
      },
      "execution_count": null,
      "outputs": []
    },
    {
      "cell_type": "code",
      "source": [
        "acciones_predichas = [agente.action(contexto) for contexto in contextos.values]"
      ],
      "metadata": {
        "id": "lcGrWWWT5WyC"
      },
      "execution_count": null,
      "outputs": []
    },
    {
      "cell_type": "code",
      "source": [
        "df_train_copy[\"acciones_predichas\"] = acciones_predichas"
      ],
      "metadata": {
        "id": "IWDxfeel5b_L"
      },
      "execution_count": null,
      "outputs": []
    },
    {
      "cell_type": "code",
      "source": [
        "from sklearn.tree import DecisionTreeClassifier, export_graphviz\n",
        "#from libreria_aux_arboles import tree_to_code, tree_to_pseudo\n",
        "from graphviz import Source\n",
        "\n",
        "startbold = '\\033[1m'\n",
        "endbold = '\\033[0m'\n",
        "\n",
        "clf = DecisionTreeClassifier(\n",
        "    #max_depth=1,\n",
        "    min_samples_split=0.1, # mínimo número de casos en un nodo para partirlo. \n",
        "    min_samples_leaf=0.01,  # mínimo número de casos en nodo hoja.\n",
        "    max_leaf_nodes=5, # máximo número de nodos hoja\n",
        "    #min_weight_fraction_leaf=0.05,\n",
        "    #min_impurity_decrease=0.15\n",
        "    )\n",
        "\n",
        "clf = clf.fit(contextos, acciones_predichas)\n",
        "# clf.classes_\n",
        "attributes_names = contextos.columns[:10]\n",
        "\n",
        "#tree_to_code(clf, attributes_names, start_bold=startbold, end_bold=endbold)\n",
        "\n",
        "display(Source( export_graphviz(clf, out_file=None,\n",
        "                                feature_names=attributes_names,\n",
        "                                #class_names=cluster_names,\n",
        "                                filled=True, rounded=True,\n",
        "                                special_characters=True,\n",
        "                                impurity=True,\n",
        "                                leaves_parallel=True,\n",
        "                                rotate=False,\n",
        "                                node_ids=True)))"
      ],
      "metadata": {
        "id": "a8EZ-1fPraV_",
        "colab": {
          "base_uri": "https://localhost:8080/",
          "height": 609
        },
        "outputId": "66f3f1c0-f387-4b57-8965-38137458a9b5"
      },
      "execution_count": null,
      "outputs": [
        {
          "output_type": "display_data",
          "data": {
            "image/svg+xml": "<?xml version=\"1.0\" encoding=\"UTF-8\" standalone=\"no\"?>\n<!DOCTYPE svg PUBLIC \"-//W3C//DTD SVG 1.1//EN\"\n \"http://www.w3.org/Graphics/SVG/1.1/DTD/svg11.dtd\">\n<!-- Generated by graphviz version 2.43.0 (0)\n -->\n<!-- Title: Tree Pages: 1 -->\n<svg width=\"832pt\" height=\"441pt\"\n viewBox=\"0.00 0.00 831.50 440.50\" xmlns=\"http://www.w3.org/2000/svg\" xmlns:xlink=\"http://www.w3.org/1999/xlink\">\n<g id=\"graph0\" class=\"graph\" transform=\"scale(1 1) rotate(0) translate(4 436.5)\">\n<title>Tree</title>\n<polygon fill=\"white\" stroke=\"transparent\" points=\"-4,4 -4,-436.5 827.5,-436.5 827.5,4 -4,4\"/>\n<!-- 0 -->\n<g id=\"node1\" class=\"node\">\n<title>0</title>\n<path fill=\"#63b2ea\" stroke=\"black\" d=\"M646.5,-432.5C646.5,-432.5 348.5,-432.5 348.5,-432.5 342.5,-432.5 336.5,-426.5 336.5,-420.5 336.5,-420.5 336.5,-361.5 336.5,-361.5 336.5,-355.5 342.5,-349.5 348.5,-349.5 348.5,-349.5 646.5,-349.5 646.5,-349.5 652.5,-349.5 658.5,-355.5 658.5,-361.5 658.5,-361.5 658.5,-420.5 658.5,-420.5 658.5,-426.5 652.5,-432.5 646.5,-432.5\"/>\n<text text-anchor=\"start\" x=\"473\" y=\"-417.3\" font-family=\"Helvetica,sans-Serif\" font-size=\"14.00\">node #0</text>\n<text text-anchor=\"start\" x=\"344.5\" y=\"-402.3\" font-family=\"Helvetica,sans-Serif\" font-size=\"14.00\">NumberOfTime30&#45;59DaysPastDueNotWorse ≤ 0.5</text>\n<text text-anchor=\"start\" x=\"462\" y=\"-387.3\" font-family=\"Helvetica,sans-Serif\" font-size=\"14.00\">gini = 0.287</text>\n<text text-anchor=\"start\" x=\"445\" y=\"-372.3\" font-family=\"Helvetica,sans-Serif\" font-size=\"14.00\">samples = 75518</text>\n<text text-anchor=\"start\" x=\"428\" y=\"-357.3\" font-family=\"Helvetica,sans-Serif\" font-size=\"14.00\">value = [13130, 62388]</text>\n</g>\n<!-- 1 -->\n<g id=\"node2\" class=\"node\">\n<title>1</title>\n<path fill=\"#49a5e7\" stroke=\"black\" d=\"M458.5,-313.5C458.5,-313.5 258.5,-313.5 258.5,-313.5 252.5,-313.5 246.5,-307.5 246.5,-301.5 246.5,-301.5 246.5,-242.5 246.5,-242.5 246.5,-236.5 252.5,-230.5 258.5,-230.5 258.5,-230.5 458.5,-230.5 458.5,-230.5 464.5,-230.5 470.5,-236.5 470.5,-242.5 470.5,-242.5 470.5,-301.5 470.5,-301.5 470.5,-307.5 464.5,-313.5 458.5,-313.5\"/>\n<text text-anchor=\"start\" x=\"334\" y=\"-298.3\" font-family=\"Helvetica,sans-Serif\" font-size=\"14.00\">node #1</text>\n<text text-anchor=\"start\" x=\"254.5\" y=\"-283.3\" font-family=\"Helvetica,sans-Serif\" font-size=\"14.00\">NumberOfTimes90DaysLate ≤ 0.5</text>\n<text text-anchor=\"start\" x=\"326.5\" y=\"-268.3\" font-family=\"Helvetica,sans-Serif\" font-size=\"14.00\">gini = 0.14</text>\n<text text-anchor=\"start\" x=\"306\" y=\"-253.3\" font-family=\"Helvetica,sans-Serif\" font-size=\"14.00\">samples = 62204</text>\n<text text-anchor=\"start\" x=\"293\" y=\"-238.3\" font-family=\"Helvetica,sans-Serif\" font-size=\"14.00\">value = [4729, 57475]</text>\n</g>\n<!-- 0&#45;&gt;1 -->\n<g id=\"edge1\" class=\"edge\">\n<title>0&#45;&gt;1</title>\n<path fill=\"none\" stroke=\"black\" d=\"M449.27,-349.41C438.06,-339.97 426.03,-329.84 414.51,-320.15\"/>\n<polygon fill=\"black\" stroke=\"black\" points=\"416.54,-317.28 406.64,-313.52 412.04,-322.64 416.54,-317.28\"/>\n<text text-anchor=\"middle\" x=\"408.78\" y=\"-334.73\" font-family=\"Helvetica,sans-Serif\" font-size=\"14.00\">True</text>\n</g>\n<!-- 2 -->\n<g id=\"node7\" class=\"node\">\n<title>2</title>\n<path fill=\"#f4cbad\" stroke=\"black\" d=\"M772.5,-313.5C772.5,-313.5 500.5,-313.5 500.5,-313.5 494.5,-313.5 488.5,-307.5 488.5,-301.5 488.5,-301.5 488.5,-242.5 488.5,-242.5 488.5,-236.5 494.5,-230.5 500.5,-230.5 500.5,-230.5 772.5,-230.5 772.5,-230.5 778.5,-230.5 784.5,-236.5 784.5,-242.5 784.5,-242.5 784.5,-301.5 784.5,-301.5 784.5,-307.5 778.5,-313.5 772.5,-313.5\"/>\n<text text-anchor=\"start\" x=\"612\" y=\"-298.3\" font-family=\"Helvetica,sans-Serif\" font-size=\"14.00\">node #2</text>\n<text text-anchor=\"start\" x=\"496.5\" y=\"-283.3\" font-family=\"Helvetica,sans-Serif\" font-size=\"14.00\">RevolvingUtilizationOfUnsecuredLines ≤ 0.482</text>\n<text text-anchor=\"start\" x=\"601\" y=\"-268.3\" font-family=\"Helvetica,sans-Serif\" font-size=\"14.00\">gini = 0.466</text>\n<text text-anchor=\"start\" x=\"584\" y=\"-253.3\" font-family=\"Helvetica,sans-Serif\" font-size=\"14.00\">samples = 13314</text>\n<text text-anchor=\"start\" x=\"574.5\" y=\"-238.3\" font-family=\"Helvetica,sans-Serif\" font-size=\"14.00\">value = [8401, 4913]</text>\n</g>\n<!-- 0&#45;&gt;2 -->\n<g id=\"edge6\" class=\"edge\">\n<title>0&#45;&gt;2</title>\n<path fill=\"none\" stroke=\"black\" d=\"M545.73,-349.41C556.94,-339.97 568.97,-329.84 580.49,-320.15\"/>\n<polygon fill=\"black\" stroke=\"black\" points=\"582.96,-322.64 588.36,-313.52 578.46,-317.28 582.96,-322.64\"/>\n<text text-anchor=\"middle\" x=\"586.22\" y=\"-334.73\" font-family=\"Helvetica,sans-Serif\" font-size=\"14.00\">False</text>\n</g>\n<!-- 3 -->\n<g id=\"node3\" class=\"node\">\n<title>3</title>\n<path fill=\"#42a1e6\" stroke=\"black\" d=\"M351.5,-194.5C351.5,-194.5 53.5,-194.5 53.5,-194.5 47.5,-194.5 41.5,-188.5 41.5,-182.5 41.5,-182.5 41.5,-123.5 41.5,-123.5 41.5,-117.5 47.5,-111.5 53.5,-111.5 53.5,-111.5 351.5,-111.5 351.5,-111.5 357.5,-111.5 363.5,-117.5 363.5,-123.5 363.5,-123.5 363.5,-182.5 363.5,-182.5 363.5,-188.5 357.5,-194.5 351.5,-194.5\"/>\n<text text-anchor=\"start\" x=\"178\" y=\"-179.3\" font-family=\"Helvetica,sans-Serif\" font-size=\"14.00\">node #3</text>\n<text text-anchor=\"start\" x=\"49.5\" y=\"-164.3\" font-family=\"Helvetica,sans-Serif\" font-size=\"14.00\">NumberOfTime60&#45;89DaysPastDueNotWorse ≤ 0.5</text>\n<text text-anchor=\"start\" x=\"167\" y=\"-149.3\" font-family=\"Helvetica,sans-Serif\" font-size=\"14.00\">gini = 0.084</text>\n<text text-anchor=\"start\" x=\"150\" y=\"-134.3\" font-family=\"Helvetica,sans-Serif\" font-size=\"14.00\">samples = 60114</text>\n<text text-anchor=\"start\" x=\"137\" y=\"-119.3\" font-family=\"Helvetica,sans-Serif\" font-size=\"14.00\">value = [2639, 57475]</text>\n</g>\n<!-- 1&#45;&gt;3 -->\n<g id=\"edge2\" class=\"edge\">\n<title>1&#45;&gt;3</title>\n<path fill=\"none\" stroke=\"black\" d=\"M304.38,-230.41C291.55,-220.79 277.77,-210.45 264.62,-200.59\"/>\n<polygon fill=\"black\" stroke=\"black\" points=\"266.63,-197.72 256.53,-194.52 262.43,-203.32 266.63,-197.72\"/>\n</g>\n<!-- 4 -->\n<g id=\"node6\" class=\"node\">\n<title>4</title>\n<path fill=\"#e58139\" stroke=\"black\" d=\"M438,-68C438,-68 345,-68 345,-68 339,-68 333,-62 333,-56 333,-56 333,-12 333,-12 333,-6 339,0 345,0 345,0 438,0 438,0 444,0 450,-6 450,-12 450,-12 450,-56 450,-56 450,-62 444,-68 438,-68\"/>\n<text text-anchor=\"start\" x=\"367\" y=\"-52.8\" font-family=\"Helvetica,sans-Serif\" font-size=\"14.00\">node #4</text>\n<text text-anchor=\"start\" x=\"363.5\" y=\"-37.8\" font-family=\"Helvetica,sans-Serif\" font-size=\"14.00\">gini = 0.0</text>\n<text text-anchor=\"start\" x=\"343\" y=\"-22.8\" font-family=\"Helvetica,sans-Serif\" font-size=\"14.00\">samples = 2090</text>\n<text text-anchor=\"start\" x=\"341\" y=\"-7.8\" font-family=\"Helvetica,sans-Serif\" font-size=\"14.00\">value = [2090, 0]</text>\n</g>\n<!-- 1&#45;&gt;4 -->\n<g id=\"edge5\" class=\"edge\">\n<title>1&#45;&gt;4</title>\n<path fill=\"none\" stroke=\"black\" d=\"M365.99,-230.06C369.32,-211.87 372.5,-194.5 372.5,-194.5 372.5,-194.5 380.74,-125.3 386.37,-78.06\"/>\n<polygon fill=\"black\" stroke=\"black\" points=\"389.86,-78.39 387.56,-68.05 382.9,-77.56 389.86,-78.39\"/>\n</g>\n<!-- 7 -->\n<g id=\"node4\" class=\"node\">\n<title>7</title>\n<path fill=\"#3e9fe6\" stroke=\"black\" d=\"M135,-68C135,-68 12,-68 12,-68 6,-68 0,-62 0,-56 0,-56 0,-12 0,-12 0,-6 6,0 12,0 12,0 135,0 135,0 141,0 147,-6 147,-12 147,-12 147,-56 147,-56 147,-62 141,-68 135,-68\"/>\n<text text-anchor=\"start\" x=\"49\" y=\"-52.8\" font-family=\"Helvetica,sans-Serif\" font-size=\"14.00\">node #7</text>\n<text text-anchor=\"start\" x=\"38\" y=\"-37.8\" font-family=\"Helvetica,sans-Serif\" font-size=\"14.00\">gini = 0.046</text>\n<text text-anchor=\"start\" x=\"21\" y=\"-22.8\" font-family=\"Helvetica,sans-Serif\" font-size=\"14.00\">samples = 58811</text>\n<text text-anchor=\"start\" x=\"8\" y=\"-7.8\" font-family=\"Helvetica,sans-Serif\" font-size=\"14.00\">value = [1390, 57421]</text>\n</g>\n<!-- 3&#45;&gt;7 -->\n<g id=\"edge3\" class=\"edge\">\n<title>3&#45;&gt;7</title>\n<path fill=\"none\" stroke=\"black\" d=\"M157.74,-111.41C144.73,-99.6 130.52,-86.72 117.55,-74.95\"/>\n<polygon fill=\"black\" stroke=\"black\" points=\"119.83,-72.29 110.07,-68.17 115.12,-77.48 119.83,-72.29\"/>\n</g>\n<!-- 8 -->\n<g id=\"node5\" class=\"node\">\n<title>8</title>\n<path fill=\"#e68642\" stroke=\"black\" d=\"M278,-68C278,-68 177,-68 177,-68 171,-68 165,-62 165,-56 165,-56 165,-12 165,-12 165,-6 171,0 177,0 177,0 278,0 278,0 284,0 290,-6 290,-12 290,-12 290,-56 290,-56 290,-62 284,-68 278,-68\"/>\n<text text-anchor=\"start\" x=\"203\" y=\"-52.8\" font-family=\"Helvetica,sans-Serif\" font-size=\"14.00\">node #8</text>\n<text text-anchor=\"start\" x=\"192\" y=\"-37.8\" font-family=\"Helvetica,sans-Serif\" font-size=\"14.00\">gini = 0.079</text>\n<text text-anchor=\"start\" x=\"179\" y=\"-22.8\" font-family=\"Helvetica,sans-Serif\" font-size=\"14.00\">samples = 1303</text>\n<text text-anchor=\"start\" x=\"173\" y=\"-7.8\" font-family=\"Helvetica,sans-Serif\" font-size=\"14.00\">value = [1249, 54]</text>\n</g>\n<!-- 3&#45;&gt;8 -->\n<g id=\"edge4\" class=\"edge\">\n<title>3&#45;&gt;8</title>\n<path fill=\"none\" stroke=\"black\" d=\"M211.17,-111.41C213.46,-100.7 215.94,-89.12 218.25,-78.28\"/>\n<polygon fill=\"black\" stroke=\"black\" points=\"221.75,-78.68 220.41,-68.17 214.9,-77.21 221.75,-78.68\"/>\n</g>\n<!-- 5 -->\n<g id=\"node8\" class=\"node\">\n<title>5</title>\n<path fill=\"#8ac5f0\" stroke=\"black\" d=\"M661.5,-68C661.5,-68 545.5,-68 545.5,-68 539.5,-68 533.5,-62 533.5,-56 533.5,-56 533.5,-12 533.5,-12 533.5,-6 539.5,0 545.5,0 545.5,0 661.5,0 661.5,0 667.5,0 673.5,-6 673.5,-12 673.5,-12 673.5,-56 673.5,-56 673.5,-62 667.5,-68 661.5,-68\"/>\n<text text-anchor=\"start\" x=\"579\" y=\"-52.8\" font-family=\"Helvetica,sans-Serif\" font-size=\"14.00\">node #5</text>\n<text text-anchor=\"start\" x=\"568\" y=\"-37.8\" font-family=\"Helvetica,sans-Serif\" font-size=\"14.00\">gini = 0.412</text>\n<text text-anchor=\"start\" x=\"555\" y=\"-22.8\" font-family=\"Helvetica,sans-Serif\" font-size=\"14.00\">samples = 6257</text>\n<text text-anchor=\"start\" x=\"541.5\" y=\"-7.8\" font-family=\"Helvetica,sans-Serif\" font-size=\"14.00\">value = [1815, 4442]</text>\n</g>\n<!-- 2&#45;&gt;5 -->\n<g id=\"edge7\" class=\"edge\">\n<title>2&#45;&gt;5</title>\n<path fill=\"none\" stroke=\"black\" d=\"M630.83,-230.43C624.89,-187.97 615.6,-121.57 609.54,-78.16\"/>\n<polygon fill=\"black\" stroke=\"black\" points=\"612.99,-77.61 608.14,-68.19 606.06,-78.58 612.99,-77.61\"/>\n</g>\n<!-- 6 -->\n<g id=\"node9\" class=\"node\">\n<title>6</title>\n<path fill=\"#e78a47\" stroke=\"black\" d=\"M811.5,-68C811.5,-68 703.5,-68 703.5,-68 697.5,-68 691.5,-62 691.5,-56 691.5,-56 691.5,-12 691.5,-12 691.5,-6 697.5,0 703.5,0 703.5,0 811.5,0 811.5,0 817.5,0 823.5,-6 823.5,-12 823.5,-12 823.5,-56 823.5,-56 823.5,-62 817.5,-68 811.5,-68\"/>\n<text text-anchor=\"start\" x=\"733\" y=\"-52.8\" font-family=\"Helvetica,sans-Serif\" font-size=\"14.00\">node #6</text>\n<text text-anchor=\"start\" x=\"722\" y=\"-37.8\" font-family=\"Helvetica,sans-Serif\" font-size=\"14.00\">gini = 0.125</text>\n<text text-anchor=\"start\" x=\"709\" y=\"-22.8\" font-family=\"Helvetica,sans-Serif\" font-size=\"14.00\">samples = 7057</text>\n<text text-anchor=\"start\" x=\"699.5\" y=\"-7.8\" font-family=\"Helvetica,sans-Serif\" font-size=\"14.00\">value = [6586, 471]</text>\n</g>\n<!-- 2&#45;&gt;6 -->\n<g id=\"edge8\" class=\"edge\">\n<title>2&#45;&gt;6</title>\n<path fill=\"none\" stroke=\"black\" d=\"M657.3,-230.43C679.21,-187.7 713.55,-120.73 735.79,-77.34\"/>\n<polygon fill=\"black\" stroke=\"black\" points=\"739.03,-78.69 740.48,-68.19 732.81,-75.49 739.03,-78.69\"/>\n</g>\n</g>\n</svg>\n",
            "text/plain": [
              "<graphviz.sources.Source at 0x7f8a70701240>"
            ]
          },
          "metadata": {}
        }
      ]
    },
    {
      "cell_type": "markdown",
      "source": [
        "**Respuesta:**\n",
        "\n",
        "Utilizando los arboles de decisiones para interpretar el modelo, podemos observar que las características con mayor importancia para el modelo son *NumberOfTime30-59DaysPastDueNotWorse*, *NumberOfTimes90DaysLate*, *NumberOfTime60-89DaysPastDueNotWorse*, *RevolvingUtilizationOfUnsecuredLines*, las cuales coinciden con los resultados obtenidos en la **respuesta 4**. \n",
        "\n"
      ],
      "metadata": {
        "id": "dtqmzaXEwl4a"
      }
    },
    {
      "cell_type": "markdown",
      "source": [
        "### Tarea 7"
      ],
      "metadata": {
        "id": "xAR87YZFHQUD"
      }
    },
    {
      "cell_type": "markdown",
      "source": [
        "**Respuesta:**\n",
        "\n",
        "La tendencia general es *dar crédito*, ya que la probabilidad de encontrar un cliente que no pague es pequeña, si reducimos la penalización el modelo será “menos prudente” y hará que tienda a conceder créditos en un numero mayor de casos. Cuanto más pequeña la penalización, mayor la tendencia. \n",
        "\n"
      ],
      "metadata": {
        "id": "EmF7S9KasDKC"
      }
    },
    {
      "cell_type": "markdown",
      "source": [
        "### Tarea 8"
      ],
      "metadata": {
        "id": "CJR8uCoskYli"
      }
    },
    {
      "cell_type": "markdown",
      "source": [
        "Una manera de optimizar el modelo podría ser reduciendo el contexto de los clientes utilizando solo las características con mayor importancia en el modelo. Si observamos los resultados obtenidos en la **respuesta 4**, podemos ver que cuando la acción es 1 que las características del cliente que tienen los coeficientes de regresión 0,0 son menos relevantes para la decisión, estás son: *DebtRatio*, *MonthlyIncome*, *NumberOfDependents*, y con la mayor importancia son *RevolvingUtilizationOfUnsecuredLines*, *NumberOfTime30-59DaysPastDueNotWorse*, *NumberOfTimes90DaysLate*, *NumberOfTime60-89DaysPastDueNotWorse*, que son las que coinciden también con la **respuesta 6**. Otra forma de realizar esto, podría ser utilizando librerías como sklearn.feature_selection para obtener las características más importante del modelo. "
      ],
      "metadata": {
        "id": "Z0_IwgRksFGL"
      }
    },
    {
      "cell_type": "code",
      "source": [
        "df_train_optimizado = df_train.copy()"
      ],
      "metadata": {
        "id": "WITk192dz8Sq"
      },
      "execution_count": null,
      "outputs": []
    },
    {
      "cell_type": "code",
      "source": [
        "df_train_optimizado = df_train_optimizado.drop([\"DebtRatio\", \"MonthlyIncome\", \"NumberOfDependents\"], axis=1)"
      ],
      "metadata": {
        "id": "h4tjvYv20OA7"
      },
      "execution_count": null,
      "outputs": []
    },
    {
      "cell_type": "code",
      "source": [
        "df_train_optimizado.head()"
      ],
      "metadata": {
        "colab": {
          "base_uri": "https://localhost:8080/",
          "height": 287
        },
        "id": "qhNopnQ10srM",
        "outputId": "63ad068a-d2bd-4e1e-a16d-8eba4647a5d0"
      },
      "execution_count": null,
      "outputs": [
        {
          "output_type": "execute_result",
          "data": {
            "text/plain": [
              "        SeriousDlqin2yrs  RevolvingUtilizationOfUnsecuredLines  age  \\\n",
              "135262                 0                              0.064833   59   \n",
              "14308                  0                              0.209079   30   \n",
              "124448                 0                              0.411271   58   \n",
              "113232                 0                              0.929365   33   \n",
              "83942                  0                              0.359039   50   \n",
              "\n",
              "        NumberOfTime30-59DaysPastDueNotWorse  NumberOfOpenCreditLinesAndLoans  \\\n",
              "135262                                     0                                5   \n",
              "14308                                      0                                7   \n",
              "124448                                     0                               11   \n",
              "113232                                     1                                6   \n",
              "83942                                      0                                7   \n",
              "\n",
              "        NumberOfTimes90DaysLate  NumberRealEstateLoansOrLines  \\\n",
              "135262                        0                             1   \n",
              "14308                         0                             0   \n",
              "124448                        0                             1   \n",
              "113232                        0                             1   \n",
              "83942                         0                             2   \n",
              "\n",
              "        NumberOfTime60-89DaysPastDueNotWorse  \n",
              "135262                                     0  \n",
              "14308                                      0  \n",
              "124448                                     0  \n",
              "113232                                     0  \n",
              "83942                                      0  "
            ],
            "text/html": [
              "\n",
              "  <div id=\"df-370a233a-443e-42f2-9c11-1ba0da02d9ad\">\n",
              "    <div class=\"colab-df-container\">\n",
              "      <div>\n",
              "<style scoped>\n",
              "    .dataframe tbody tr th:only-of-type {\n",
              "        vertical-align: middle;\n",
              "    }\n",
              "\n",
              "    .dataframe tbody tr th {\n",
              "        vertical-align: top;\n",
              "    }\n",
              "\n",
              "    .dataframe thead th {\n",
              "        text-align: right;\n",
              "    }\n",
              "</style>\n",
              "<table border=\"1\" class=\"dataframe\">\n",
              "  <thead>\n",
              "    <tr style=\"text-align: right;\">\n",
              "      <th></th>\n",
              "      <th>SeriousDlqin2yrs</th>\n",
              "      <th>RevolvingUtilizationOfUnsecuredLines</th>\n",
              "      <th>age</th>\n",
              "      <th>NumberOfTime30-59DaysPastDueNotWorse</th>\n",
              "      <th>NumberOfOpenCreditLinesAndLoans</th>\n",
              "      <th>NumberOfTimes90DaysLate</th>\n",
              "      <th>NumberRealEstateLoansOrLines</th>\n",
              "      <th>NumberOfTime60-89DaysPastDueNotWorse</th>\n",
              "    </tr>\n",
              "  </thead>\n",
              "  <tbody>\n",
              "    <tr>\n",
              "      <th>135262</th>\n",
              "      <td>0</td>\n",
              "      <td>0.064833</td>\n",
              "      <td>59</td>\n",
              "      <td>0</td>\n",
              "      <td>5</td>\n",
              "      <td>0</td>\n",
              "      <td>1</td>\n",
              "      <td>0</td>\n",
              "    </tr>\n",
              "    <tr>\n",
              "      <th>14308</th>\n",
              "      <td>0</td>\n",
              "      <td>0.209079</td>\n",
              "      <td>30</td>\n",
              "      <td>0</td>\n",
              "      <td>7</td>\n",
              "      <td>0</td>\n",
              "      <td>0</td>\n",
              "      <td>0</td>\n",
              "    </tr>\n",
              "    <tr>\n",
              "      <th>124448</th>\n",
              "      <td>0</td>\n",
              "      <td>0.411271</td>\n",
              "      <td>58</td>\n",
              "      <td>0</td>\n",
              "      <td>11</td>\n",
              "      <td>0</td>\n",
              "      <td>1</td>\n",
              "      <td>0</td>\n",
              "    </tr>\n",
              "    <tr>\n",
              "      <th>113232</th>\n",
              "      <td>0</td>\n",
              "      <td>0.929365</td>\n",
              "      <td>33</td>\n",
              "      <td>1</td>\n",
              "      <td>6</td>\n",
              "      <td>0</td>\n",
              "      <td>1</td>\n",
              "      <td>0</td>\n",
              "    </tr>\n",
              "    <tr>\n",
              "      <th>83942</th>\n",
              "      <td>0</td>\n",
              "      <td>0.359039</td>\n",
              "      <td>50</td>\n",
              "      <td>0</td>\n",
              "      <td>7</td>\n",
              "      <td>0</td>\n",
              "      <td>2</td>\n",
              "      <td>0</td>\n",
              "    </tr>\n",
              "  </tbody>\n",
              "</table>\n",
              "</div>\n",
              "      <button class=\"colab-df-convert\" onclick=\"convertToInteractive('df-370a233a-443e-42f2-9c11-1ba0da02d9ad')\"\n",
              "              title=\"Convert this dataframe to an interactive table.\"\n",
              "              style=\"display:none;\">\n",
              "        \n",
              "  <svg xmlns=\"http://www.w3.org/2000/svg\" height=\"24px\"viewBox=\"0 0 24 24\"\n",
              "       width=\"24px\">\n",
              "    <path d=\"M0 0h24v24H0V0z\" fill=\"none\"/>\n",
              "    <path d=\"M18.56 5.44l.94 2.06.94-2.06 2.06-.94-2.06-.94-.94-2.06-.94 2.06-2.06.94zm-11 1L8.5 8.5l.94-2.06 2.06-.94-2.06-.94L8.5 2.5l-.94 2.06-2.06.94zm10 10l.94 2.06.94-2.06 2.06-.94-2.06-.94-.94-2.06-.94 2.06-2.06.94z\"/><path d=\"M17.41 7.96l-1.37-1.37c-.4-.4-.92-.59-1.43-.59-.52 0-1.04.2-1.43.59L10.3 9.45l-7.72 7.72c-.78.78-.78 2.05 0 2.83L4 21.41c.39.39.9.59 1.41.59.51 0 1.02-.2 1.41-.59l7.78-7.78 2.81-2.81c.8-.78.8-2.07 0-2.86zM5.41 20L4 18.59l7.72-7.72 1.47 1.35L5.41 20z\"/>\n",
              "  </svg>\n",
              "      </button>\n",
              "      \n",
              "  <style>\n",
              "    .colab-df-container {\n",
              "      display:flex;\n",
              "      flex-wrap:wrap;\n",
              "      gap: 12px;\n",
              "    }\n",
              "\n",
              "    .colab-df-convert {\n",
              "      background-color: #E8F0FE;\n",
              "      border: none;\n",
              "      border-radius: 50%;\n",
              "      cursor: pointer;\n",
              "      display: none;\n",
              "      fill: #1967D2;\n",
              "      height: 32px;\n",
              "      padding: 0 0 0 0;\n",
              "      width: 32px;\n",
              "    }\n",
              "\n",
              "    .colab-df-convert:hover {\n",
              "      background-color: #E2EBFA;\n",
              "      box-shadow: 0px 1px 2px rgba(60, 64, 67, 0.3), 0px 1px 3px 1px rgba(60, 64, 67, 0.15);\n",
              "      fill: #174EA6;\n",
              "    }\n",
              "\n",
              "    [theme=dark] .colab-df-convert {\n",
              "      background-color: #3B4455;\n",
              "      fill: #D2E3FC;\n",
              "    }\n",
              "\n",
              "    [theme=dark] .colab-df-convert:hover {\n",
              "      background-color: #434B5C;\n",
              "      box-shadow: 0px 1px 3px 1px rgba(0, 0, 0, 0.15);\n",
              "      filter: drop-shadow(0px 1px 2px rgba(0, 0, 0, 0.3));\n",
              "      fill: #FFFFFF;\n",
              "    }\n",
              "  </style>\n",
              "\n",
              "      <script>\n",
              "        const buttonEl =\n",
              "          document.querySelector('#df-370a233a-443e-42f2-9c11-1ba0da02d9ad button.colab-df-convert');\n",
              "        buttonEl.style.display =\n",
              "          google.colab.kernel.accessAllowed ? 'block' : 'none';\n",
              "\n",
              "        async function convertToInteractive(key) {\n",
              "          const element = document.querySelector('#df-370a233a-443e-42f2-9c11-1ba0da02d9ad');\n",
              "          const dataTable =\n",
              "            await google.colab.kernel.invokeFunction('convertToInteractive',\n",
              "                                                     [key], {});\n",
              "          if (!dataTable) return;\n",
              "\n",
              "          const docLinkHtml = 'Like what you see? Visit the ' +\n",
              "            '<a target=\"_blank\" href=https://colab.research.google.com/notebooks/data_table.ipynb>data table notebook</a>'\n",
              "            + ' to learn more about interactive tables.';\n",
              "          element.innerHTML = '';\n",
              "          dataTable['output_type'] = 'display_data';\n",
              "          await google.colab.output.renderOutput(dataTable, element);\n",
              "          const docLink = document.createElement('div');\n",
              "          docLink.innerHTML = docLinkHtml;\n",
              "          element.appendChild(docLink);\n",
              "        }\n",
              "      </script>\n",
              "    </div>\n",
              "  </div>\n",
              "  "
            ]
          },
          "metadata": {},
          "execution_count": 115
        }
      ]
    },
    {
      "cell_type": "code",
      "source": [
        "client = clientes(df_train_optimizado)\n",
        "n_acciones = 2 # número de promociones diferentes\n",
        "n_features = len(client.get_context()) # número de variables de contexto (edad e ingresos generados)\n",
        "\n",
        "agente = LinearBandits(n_acciones, n_features, initial_pulls=100) # initial_pulls: duración de la fase de exploración pura\n",
        "reward_promedio = []\n",
        "reward_total = 0\n",
        "regret_promedio = []\n",
        "regret_total = 0\n",
        "N = len(df_train_optimizado)\n",
        "\n",
        "for i in tqdm(range(N)):\n",
        "  contexto = client.get_context().values\n",
        "  accion = agente.action(contexto) # choose_action\n",
        "  reward = client.get_reward(accion)\n",
        "  agente.update(contexto, accion, reward) # actualización del modelo\n",
        "\n",
        "  reward_total += reward\n",
        "  reward_promedio.append(reward_total/(i+1)) # i+1 es el número de iteraciones\n",
        "  regret = 1 - reward\n",
        "  regret_total += regret \n",
        "  regret_promedio.append(regret_total/(i+1))\n",
        "  client.cliente() # cliente con el que contacto\n",
        "\n",
        "print(\"Reward promedio:\", reward_total/N)\n",
        "plt.plot(reward_promedio)\n",
        "plt.title(\"Evolución del reward promedio\")\n",
        "plt.show()\n",
        "print(\"Regret promedio:\", regret_total/N)\n",
        "plt.plot(regret_promedio)\n",
        "plt.title(\"Evolución del regret promedio\")\n",
        "plt.show()"
      ],
      "metadata": {
        "colab": {
          "base_uri": "https://localhost:8080/",
          "height": 941
        },
        "id": "31WjmWuS0twI",
        "outputId": "a35f8788-6bdc-41ba-afc3-f42f3791726e"
      },
      "execution_count": null,
      "outputs": [
        {
          "output_type": "stream",
          "name": "stderr",
          "text": [
            "100%|██████████| 75518/75518 [45:00<00:00, 27.97it/s]\n"
          ]
        },
        {
          "output_type": "stream",
          "name": "stdout",
          "text": [
            "Reward promedio: 0.5066209380545036\n"
          ]
        },
        {
          "output_type": "display_data",
          "data": {
            "text/plain": [
              "<Figure size 640x480 with 1 Axes>"
            ],
            "image/png": "[encoded data removed]"
          },
          "metadata": {}
        },
        {
          "output_type": "stream",
          "name": "stdout",
          "text": [
            "Regret promedio: 0.4933790619454964\n"
          ]
        },
        {
          "output_type": "display_data",
          "data": {
            "text/plain": [
              "<Figure size 640x480 with 1 Axes>"
            ],
            "image/png": "[encoded data removed]"
          },
          "metadata": {}
        }
      ]
    }
  ]
}